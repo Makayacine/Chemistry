{
 "cells": [
  {
   "cell_type": "markdown",
   "id": "e62cfe76-40ac-46a7-b027-5cd13342e1db",
   "metadata": {},
   "source": [
    "<div style=\"\n",
    "    border: 2px solid #333;\n",
    "    background: #f9f9f9;\n",
    "    padding: 16px 24px;\n",
    "    margin: 20px 0;\n",
    "    border-radius: 8px;\n",
    "    font-family: sans-serif;\n",
    "    overflow: hidden;\n",
    "\">\n",
    "<div style=\"float: right; font-size: 12px; color: #555; text-align: right;\">\n",
    "    Vince Mbanze<br>\n",
    "    July 16, 2025\n",
    "</div>\n",
    "<h1 style=\"margin:0; color:#333; text-align:center; border-bottom: 2px solid #ccc; padding-bottom: 12px;\">🧪 Quantum Chemistry Energy Prediction on the ANI-1 Dataset 🧪</h1>\n",
    "<p style=\"margin:16px 0 0 0;\">\n",
    "    This notebook details the process of training a Graph Neural Network (GNN) to predict the quantum chemical energies of molecular conformers from the ANI-1 dataset. The dataset is distributed across multiple HDF5 files (\"shards\").\n",
    "    <br><br>\n",
    "    We leverage <b>PyTorch Geometric</b> to build and train a <b>SchNet</b> model, a GNN architecture designed for modeling chemical systems. The core task is to predict the total energy of a given 3D conformer. To improve training stability and performance, the model is trained to predict the <b>residual energy</b>—the difference between the true DFT energy and a calculated baseline energy derived from atomic contributions. The final model's performance is evaluated against the test set, achieving chemical accuracy.\n",
    "</p>\n",
    "</div>"
   ]
  },
  {
   "cell_type": "code",
   "execution_count": 37,
   "id": "97e0a88c-5733-4407-bb39-3d6c12958a30",
   "metadata": {},
   "outputs": [
    {
     "data": {
      "application/vnd.jupyter.widget-view+json": {
       "model_id": "b0c3b0f3f1974c1ca6af1aa2df801ef8",
       "version_major": 2,
       "version_minor": 0
      },
      "text/html": [
       "<table class=table>\n",
       "            <thead style=\"position: sticky; top: 0; background-color: var(--jp-layout-color0, var(--vscode-editor-background, white));\">\n",
       "        <tr><th>Package</th><th>Version</th></tr>\n",
       "    </thead>\n",
       "    <tbody>\n",
       "        <tr><td><strong>pandas</strong></td><td>2.3.1</td></tr>\n",
       "        <tr><td><strong>torch</strong></td><td>2.2.2</td></tr>\n",
       "        <tr><td><strong>numpy</strong></td><td>1.26.4</td></tr>\n",
       "        <tr><td><strong>h5py</strong></td><td>3.14.0</td></tr>\n",
       "        <tr><td><strong>tqdm</strong></td><td>4.67.1</td></tr>\n",
       "        <tr><td><strong>scikit-learn</strong></td><td>1.7.0</td></tr>\n",
       "        <tr><td><strong>torch-geometric</strong></td><td>2.6.1</td></tr>\n",
       "        <tr><td><strong>matplotlib</strong></td><td>3.10.0</td></tr>\n",
       "        <tr><td><strong>seaborn</strong></td><td>0.13.2</td></tr>\n",
       "        <tr><td><strong>scanpy</strong></td><td>1.11.2</td></tr>\n",
       "    </tbody>\n",
       "    <thead style=\"position: sticky; top: 0; background-color: var(--jp-layout-color0, var(--vscode-editor-background, white));\">\n",
       "        <tr><th>Component</th><th>Info</th></tr>\n",
       "    </thead>\n",
       "    <tbody>\n",
       "        <tr><td>Python</td><td>3.11.8 | packaged by Anaconda, Inc. | (main, Feb 26 2024, 21:34:05) [MSC v.1916 64 bit (AMD64)]</td></tr>\n",
       "        <tr><td>OS</td><td>Windows-10-10.0.26100-SP0</td></tr>\n",
       "        <tr><td>CPU</td><td>24 logical CPU cores, Intel64 Family 6 Model 191 Stepping 2, GenuineIntel</td></tr>\n",
       "        <tr><td>GPU</td><td>ID: 0, NVIDIA GeForce RTX 4070 Laptop GPU, Driver: 576.80, Memory: 8188 MiB</td></tr>\n",
       "        <tr><td>Updated</td><td>2025-07-24 09:51</td></tr>\n",
       "    </tbody>\n",
       "        </table>\n",
       "\n",
       "        <details>\n",
       "        <summary>Dependencies</summary>\n",
       "                <div style=\"max-height: min(500px, 80vh); overflow-y: auto;\">\n",
       "    <table class=table>\n",
       "            <thead style=\"position: sticky; top: 0; background-color: var(--jp-layout-color0, var(--vscode-editor-background, white));\">\n",
       "    <tr><th>Dependency</th><th>Version</th></tr>\n",
       "</thead>\n",
       "<tbody>\n",
       "    <tr><td>pywin32</td><td>308</td></tr>\n",
       "    <tr><td>patsy</td><td>1.0.1</td></tr>\n",
       "    <tr><td>torch_scatter</td><td>2.1.2+pt22cu118</td></tr>\n",
       "    <tr><td>legacy-api-wrap</td><td>1.4.1</td></tr>\n",
       "    <tr><td>ipykernel</td><td>6.29.5</td></tr>\n",
       "    <tr><td>numba</td><td>0.61.2</td></tr>\n",
       "    <tr><td>executing</td><td>0.8.3</td></tr>\n",
       "    <tr><td>llvmlite</td><td>0.44.0</td></tr>\n",
       "    <tr><td>pytz</td><td>2025.2</td></tr>\n",
       "    <tr><td>safetensors</td><td>0.5.3</td></tr>\n",
       "    <tr><td>scipy</td><td>1.15.3</td></tr>\n",
       "    <tr><td>texttable</td><td>1.7.0</td></tr>\n",
       "    <tr><td>Pygments</td><td>2.19.1</td></tr>\n",
       "    <tr><td>PySocks</td><td>1.7.1</td></tr>\n",
       "    <tr><td>tokenizers</td><td>0.21.2</td></tr>\n",
       "    <tr><td>torch_cluster</td><td>1.6.3+pt22cu118</td></tr>\n",
       "    <tr><td>wcwidth</td><td>0.2.13</td></tr>\n",
       "    <tr><td>cloudpickle</td><td>3.1.1</td></tr>\n",
       "    <tr><td>pyarrow</td><td>13.0.0</td></tr>\n",
       "    <tr><td>comm</td><td>0.2.1</td></tr>\n",
       "    <tr><td>charset-normalizer</td><td>3.4.2</td></tr>\n",
       "    <tr><td>requests</td><td>2.32.4</td></tr>\n",
       "    <tr><td>session-info2</td><td>0.1.2</td></tr>\n",
       "    <tr><td>Jinja2</td><td>3.1.6</td></tr>\n",
       "    <tr><td>jedi</td><td>0.19.2</td></tr>\n",
       "    <tr><td>six</td><td>1.17.0</td></tr>\n",
       "    <tr><td>cycler</td><td>0.12.1</td></tr>\n",
       "    <tr><td>Brotli</td><td>1.0.9</td></tr>\n",
       "    <tr><td>statsmodels</td><td>0.14.4</td></tr>\n",
       "    <tr><td>packaging</td><td>25.0</td></tr>\n",
       "    <tr><td>anndata</td><td>0.11.4</td></tr>\n",
       "    <tr><td>tornado</td><td>6.5.1</td></tr>\n",
       "    <tr><td>joblib</td><td>1.5.1</td></tr>\n",
       "    <tr><td>psutil</td><td>5.9.0</td></tr>\n",
       "    <tr><td>pyparsing</td><td>3.2.3</td></tr>\n",
       "    <tr><td>urllib3</td><td>2.5.0</td></tr>\n",
       "    <tr><td>traitlets</td><td>5.14.3</td></tr>\n",
       "    <tr><td>ipython</td><td>9.1.0</td></tr>\n",
       "    <tr><td>parso</td><td>0.8.4</td></tr>\n",
       "    <tr><td>colorama</td><td>0.4.6</td></tr>\n",
       "    <tr><td>asttokens</td><td>3.0.0</td></tr>\n",
       "    <tr><td>jupyter_core</td><td>5.7.2</td></tr>\n",
       "    <tr><td>sympy</td><td>1.14.0</td></tr>\n",
       "    <tr><td>natsort</td><td>8.4.0</td></tr>\n",
       "    <tr><td>PyYAML</td><td>6.0.2</td></tr>\n",
       "    <tr><td>certifi</td><td>2025.7.14 (2025.07.14)</td></tr>\n",
       "    <tr><td>pyzmq</td><td>26.2.0</td></tr>\n",
       "    <tr><td>threadpoolctl</td><td>3.6.0</td></tr>\n",
       "    <tr><td>chardet</td><td>5.2.0</td></tr>\n",
       "    <tr><td>mpmath</td><td>1.3.0</td></tr>\n",
       "    <tr><td>ipywidgets</td><td>8.1.7</td></tr>\n",
       "    <tr><td>transformers</td><td>4.53.2</td></tr>\n",
       "    <tr><td>platformdirs</td><td>4.3.7</td></tr>\n",
       "    <tr><td>debugpy</td><td>1.8.11</td></tr>\n",
       "    <tr><td>filelock</td><td>3.18.0</td></tr>\n",
       "    <tr><td>jupyter_client</td><td>8.6.3</td></tr>\n",
       "    <tr><td>pillow</td><td>11.1.0</td></tr>\n",
       "    <tr><td>typing_extensions</td><td>4.12.2</td></tr>\n",
       "    <tr><td>fsspec</td><td>2025.5.1</td></tr>\n",
       "    <tr><td>MarkupSafe</td><td>3.0.2</td></tr>\n",
       "    <tr><td>idna</td><td>3.10</td></tr>\n",
       "    <tr><td>pure-eval</td><td>0.2.2</td></tr>\n",
       "    <tr><td>python-dateutil</td><td>2.9.0.post0</td></tr>\n",
       "    <tr><td>prompt-toolkit</td><td>3.0.43</td></tr>\n",
       "    <tr><td>huggingface-hub</td><td>0.33.4</td></tr>\n",
       "    <tr><td>torch_sparse</td><td>0.6.18+pt22cu118</td></tr>\n",
       "    <tr><td>decorator</td><td>5.1.1</td></tr>\n",
       "    <tr><td>zstandard</td><td>0.19.0</td></tr>\n",
       "    <tr><td>regex</td><td>2024.11.6 (2.5.148)</td></tr>\n",
       "    <tr><td>leidenalg</td><td>0.10.2</td></tr>\n",
       "    <tr><td>setuptools</td><td>78.1.1</td></tr>\n",
       "    <tr><td>igraph</td><td>0.11.5</td></tr>\n",
       "    <tr><td>kiwisolver</td><td>1.4.4</td></tr>\n",
       "    <tr><td>stack-data</td><td>0.2.0</td></tr>\n",
       "    <tr><td>torch_spline_conv</td><td>1.2.2+pt22cu118</td></tr>\n",
       "</tbody>\n",
       "    </table>\n",
       "</div>\n",
       "    </details>\n",
       "        <details>\n",
       "            <summary>Copyable Markdown</summary>\n",
       "            <pre>| Package         | Version |\n",
       "| --------------- | ------- |\n",
       "| pandas          | 2.3.1   |\n",
       "| torch           | 2.2.2   |\n",
       "| numpy           | 1.26.4  |\n",
       "| h5py            | 3.14.0  |\n",
       "| tqdm            | 4.67.1  |\n",
       "| scikit-learn    | 1.7.0   |\n",
       "| torch-geometric | 2.6.1   |\n",
       "| matplotlib      | 3.10.0  |\n",
       "| seaborn         | 0.13.2  |\n",
       "| scanpy          | 1.11.2  |\n",
       "\n",
       "| Dependency         | Version                |\n",
       "| ------------------ | ---------------------- |\n",
       "| pywin32            | 308                    |\n",
       "| patsy              | 1.0.1                  |\n",
       "| torch_scatter      | 2.1.2+pt22cu118        |\n",
       "| legacy-api-wrap    | 1.4.1                  |\n",
       "| ipykernel          | 6.29.5                 |\n",
       "| numba              | 0.61.2                 |\n",
       "| executing          | 0.8.3                  |\n",
       "| llvmlite           | 0.44.0                 |\n",
       "| pytz               | 2025.2                 |\n",
       "| safetensors        | 0.5.3                  |\n",
       "| scipy              | 1.15.3                 |\n",
       "| texttable          | 1.7.0                  |\n",
       "| Pygments           | 2.19.1                 |\n",
       "| PySocks            | 1.7.1                  |\n",
       "| tokenizers         | 0.21.2                 |\n",
       "| torch_cluster      | 1.6.3+pt22cu118        |\n",
       "| wcwidth            | 0.2.13                 |\n",
       "| cloudpickle        | 3.1.1                  |\n",
       "| pyarrow            | 13.0.0                 |\n",
       "| comm               | 0.2.1                  |\n",
       "| charset-normalizer | 3.4.2                  |\n",
       "| requests           | 2.32.4                 |\n",
       "| session-info2      | 0.1.2                  |\n",
       "| Jinja2             | 3.1.6                  |\n",
       "| jedi               | 0.19.2                 |\n",
       "| six                | 1.17.0                 |\n",
       "| cycler             | 0.12.1                 |\n",
       "| Brotli             | 1.0.9                  |\n",
       "| statsmodels        | 0.14.4                 |\n",
       "| packaging          | 25.0                   |\n",
       "| anndata            | 0.11.4                 |\n",
       "| tornado            | 6.5.1                  |\n",
       "| joblib             | 1.5.1                  |\n",
       "| psutil             | 5.9.0                  |\n",
       "| pyparsing          | 3.2.3                  |\n",
       "| urllib3            | 2.5.0                  |\n",
       "| traitlets          | 5.14.3                 |\n",
       "| ipython            | 9.1.0                  |\n",
       "| parso              | 0.8.4                  |\n",
       "| colorama           | 0.4.6                  |\n",
       "| asttokens          | 3.0.0                  |\n",
       "| jupyter_core       | 5.7.2                  |\n",
       "| sympy              | 1.14.0                 |\n",
       "| natsort            | 8.4.0                  |\n",
       "| PyYAML             | 6.0.2                  |\n",
       "| certifi            | 2025.7.14 (2025.07.14) |\n",
       "| pyzmq              | 26.2.0                 |\n",
       "| threadpoolctl      | 3.6.0                  |\n",
       "| chardet            | 5.2.0                  |\n",
       "| mpmath             | 1.3.0                  |\n",
       "| ipywidgets         | 8.1.7                  |\n",
       "| transformers       | 4.53.2                 |\n",
       "| platformdirs       | 4.3.7                  |\n",
       "| debugpy            | 1.8.11                 |\n",
       "| filelock           | 3.18.0                 |\n",
       "| jupyter_client     | 8.6.3                  |\n",
       "| pillow             | 11.1.0                 |\n",
       "| typing_extensions  | 4.12.2                 |\n",
       "| fsspec             | 2025.5.1               |\n",
       "| MarkupSafe         | 3.0.2                  |\n",
       "| idna               | 3.10                   |\n",
       "| pure-eval          | 0.2.2                  |\n",
       "| python-dateutil    | 2.9.0.post0            |\n",
       "| prompt-toolkit     | 3.0.43                 |\n",
       "| huggingface-hub    | 0.33.4                 |\n",
       "| torch_sparse       | 0.6.18+pt22cu118       |\n",
       "| decorator          | 5.1.1                  |\n",
       "| zstandard          | 0.19.0                 |\n",
       "| regex              | 2024.11.6 (2.5.148)    |\n",
       "| leidenalg          | 0.10.2                 |\n",
       "| setuptools         | 78.1.1                 |\n",
       "| igraph             | 0.11.5                 |\n",
       "| kiwisolver         | 1.4.4                  |\n",
       "| stack-data         | 0.2.0                  |\n",
       "| torch_spline_conv  | 1.2.2+pt22cu118        |\n",
       "\n",
       "| Component | Info                                                                                            |\n",
       "| --------- | ----------------------------------------------------------------------------------------------- |\n",
       "| Python    | 3.11.8 | packaged by Anaconda, Inc. | (main, Feb 26 2024, 21:34:05) [MSC v.1916 64 bit (AMD64)] |\n",
       "| OS        | Windows-10-10.0.26100-SP0                                                                       |\n",
       "| CPU       | 24 logical CPU cores, Intel64 Family 6 Model 191 Stepping 2, GenuineIntel                       |\n",
       "| GPU       | ID: 0, NVIDIA GeForce RTX 4070 Laptop GPU, Driver: 576.80, Memory: 8188 MiB                     |\n",
       "| Updated   | 2025-07-24 09:51                                                                                |</pre>\n",
       "        </details>"
      ],
      "text/markdown": [
       "| Package         | Version |\n",
       "| --------------- | ------- |\n",
       "| pandas          | 2.3.1   |\n",
       "| torch           | 2.2.2   |\n",
       "| numpy           | 1.26.4  |\n",
       "| h5py            | 3.14.0  |\n",
       "| tqdm            | 4.67.1  |\n",
       "| scikit-learn    | 1.7.0   |\n",
       "| torch-geometric | 2.6.1   |\n",
       "| matplotlib      | 3.10.0  |\n",
       "| seaborn         | 0.13.2  |\n",
       "| scanpy          | 1.11.2  |\n",
       "\n",
       "| Dependency         | Version                |\n",
       "| ------------------ | ---------------------- |\n",
       "| pywin32            | 308                    |\n",
       "| patsy              | 1.0.1                  |\n",
       "| torch_scatter      | 2.1.2+pt22cu118        |\n",
       "| legacy-api-wrap    | 1.4.1                  |\n",
       "| ipykernel          | 6.29.5                 |\n",
       "| numba              | 0.61.2                 |\n",
       "| executing          | 0.8.3                  |\n",
       "| llvmlite           | 0.44.0                 |\n",
       "| pytz               | 2025.2                 |\n",
       "| safetensors        | 0.5.3                  |\n",
       "| scipy              | 1.15.3                 |\n",
       "| texttable          | 1.7.0                  |\n",
       "| Pygments           | 2.19.1                 |\n",
       "| PySocks            | 1.7.1                  |\n",
       "| tokenizers         | 0.21.2                 |\n",
       "| torch_cluster      | 1.6.3+pt22cu118        |\n",
       "| wcwidth            | 0.2.13                 |\n",
       "| cloudpickle        | 3.1.1                  |\n",
       "| pyarrow            | 13.0.0                 |\n",
       "| comm               | 0.2.1                  |\n",
       "| charset-normalizer | 3.4.2                  |\n",
       "| requests           | 2.32.4                 |\n",
       "| session-info2      | 0.1.2                  |\n",
       "| Jinja2             | 3.1.6                  |\n",
       "| jedi               | 0.19.2                 |\n",
       "| six                | 1.17.0                 |\n",
       "| cycler             | 0.12.1                 |\n",
       "| Brotli             | 1.0.9                  |\n",
       "| statsmodels        | 0.14.4                 |\n",
       "| packaging          | 25.0                   |\n",
       "| anndata            | 0.11.4                 |\n",
       "| tornado            | 6.5.1                  |\n",
       "| joblib             | 1.5.1                  |\n",
       "| psutil             | 5.9.0                  |\n",
       "| pyparsing          | 3.2.3                  |\n",
       "| urllib3            | 2.5.0                  |\n",
       "| traitlets          | 5.14.3                 |\n",
       "| ipython            | 9.1.0                  |\n",
       "| parso              | 0.8.4                  |\n",
       "| colorama           | 0.4.6                  |\n",
       "| asttokens          | 3.0.0                  |\n",
       "| jupyter_core       | 5.7.2                  |\n",
       "| sympy              | 1.14.0                 |\n",
       "| natsort            | 8.4.0                  |\n",
       "| PyYAML             | 6.0.2                  |\n",
       "| certifi            | 2025.7.14 (2025.07.14) |\n",
       "| pyzmq              | 26.2.0                 |\n",
       "| threadpoolctl      | 3.6.0                  |\n",
       "| chardet            | 5.2.0                  |\n",
       "| mpmath             | 1.3.0                  |\n",
       "| ipywidgets         | 8.1.7                  |\n",
       "| transformers       | 4.53.2                 |\n",
       "| platformdirs       | 4.3.7                  |\n",
       "| debugpy            | 1.8.11                 |\n",
       "| filelock           | 3.18.0                 |\n",
       "| jupyter_client     | 8.6.3                  |\n",
       "| pillow             | 11.1.0                 |\n",
       "| typing_extensions  | 4.12.2                 |\n",
       "| fsspec             | 2025.5.1               |\n",
       "| MarkupSafe         | 3.0.2                  |\n",
       "| idna               | 3.10                   |\n",
       "| pure-eval          | 0.2.2                  |\n",
       "| python-dateutil    | 2.9.0.post0            |\n",
       "| prompt-toolkit     | 3.0.43                 |\n",
       "| huggingface-hub    | 0.33.4                 |\n",
       "| torch_sparse       | 0.6.18+pt22cu118       |\n",
       "| decorator          | 5.1.1                  |\n",
       "| zstandard          | 0.19.0                 |\n",
       "| regex              | 2024.11.6 (2.5.148)    |\n",
       "| leidenalg          | 0.10.2                 |\n",
       "| setuptools         | 78.1.1                 |\n",
       "| igraph             | 0.11.5                 |\n",
       "| kiwisolver         | 1.4.4                  |\n",
       "| stack-data         | 0.2.0                  |\n",
       "| torch_spline_conv  | 1.2.2+pt22cu118        |\n",
       "\n",
       "| Component | Info                                                                                            |\n",
       "| --------- | ----------------------------------------------------------------------------------------------- |\n",
       "| Python    | 3.11.8 | packaged by Anaconda, Inc. | (main, Feb 26 2024, 21:34:05) [MSC v.1916 64 bit (AMD64)] |\n",
       "| OS        | Windows-10-10.0.26100-SP0                                                                       |\n",
       "| CPU       | 24 logical CPU cores, Intel64 Family 6 Model 191 Stepping 2, GenuineIntel                       |\n",
       "| GPU       | ID: 0, NVIDIA GeForce RTX 4070 Laptop GPU, Driver: 576.80, Memory: 8188 MiB                     |\n",
       "| Updated   | 2025-07-24 09:51                                                                                |"
      ],
      "text/plain": [
       "pandas\t2.3.1\n",
       "torch\t2.2.2\n",
       "numpy\t1.26.4\n",
       "h5py\t3.14.0\n",
       "tqdm\t4.67.1\n",
       "scikit-learn\t1.7.0\n",
       "torch-geometric\t2.6.1\n",
       "matplotlib\t3.10.0\n",
       "seaborn\t0.13.2\n",
       "scanpy\t1.11.2\n",
       "----\t----\n",
       "pywin32\t308\n",
       "patsy\t1.0.1\n",
       "torch_scatter\t2.1.2+pt22cu118\n",
       "legacy-api-wrap\t1.4.1\n",
       "ipykernel\t6.29.5\n",
       "numba\t0.61.2\n",
       "executing\t0.8.3\n",
       "llvmlite\t0.44.0\n",
       "pytz\t2025.2\n",
       "safetensors\t0.5.3\n",
       "scipy\t1.15.3\n",
       "texttable\t1.7.0\n",
       "Pygments\t2.19.1\n",
       "PySocks\t1.7.1\n",
       "tokenizers\t0.21.2\n",
       "torch_cluster\t1.6.3+pt22cu118\n",
       "wcwidth\t0.2.13\n",
       "cloudpickle\t3.1.1\n",
       "pyarrow\t13.0.0\n",
       "comm\t0.2.1\n",
       "charset-normalizer\t3.4.2\n",
       "requests\t2.32.4\n",
       "session-info2\t0.1.2\n",
       "Jinja2\t3.1.6\n",
       "jedi\t0.19.2\n",
       "six\t1.17.0\n",
       "cycler\t0.12.1\n",
       "Brotli\t1.0.9\n",
       "statsmodels\t0.14.4\n",
       "packaging\t25.0\n",
       "anndata\t0.11.4\n",
       "tornado\t6.5.1\n",
       "joblib\t1.5.1\n",
       "psutil\t5.9.0\n",
       "pyparsing\t3.2.3\n",
       "urllib3\t2.5.0\n",
       "traitlets\t5.14.3\n",
       "ipython\t9.1.0\n",
       "parso\t0.8.4\n",
       "colorama\t0.4.6\n",
       "asttokens\t3.0.0\n",
       "jupyter_core\t5.7.2\n",
       "sympy\t1.14.0\n",
       "natsort\t8.4.0\n",
       "PyYAML\t6.0.2\n",
       "certifi\t2025.7.14 (2025.07.14)\n",
       "pyzmq\t26.2.0\n",
       "threadpoolctl\t3.6.0\n",
       "chardet\t5.2.0\n",
       "mpmath\t1.3.0\n",
       "ipywidgets\t8.1.7\n",
       "transformers\t4.53.2\n",
       "platformdirs\t4.3.7\n",
       "debugpy\t1.8.11\n",
       "filelock\t3.18.0\n",
       "jupyter_client\t8.6.3\n",
       "pillow\t11.1.0\n",
       "typing_extensions\t4.12.2\n",
       "fsspec\t2025.5.1\n",
       "MarkupSafe\t3.0.2\n",
       "idna\t3.10\n",
       "pure-eval\t0.2.2\n",
       "python-dateutil\t2.9.0.post0\n",
       "prompt-toolkit\t3.0.43\n",
       "huggingface-hub\t0.33.4\n",
       "torch_sparse\t0.6.18+pt22cu118\n",
       "decorator\t5.1.1\n",
       "zstandard\t0.19.0\n",
       "regex\t2024.11.6 (2.5.148)\n",
       "leidenalg\t0.10.2\n",
       "setuptools\t78.1.1\n",
       "igraph\t0.11.5\n",
       "kiwisolver\t1.4.4\n",
       "stack-data\t0.2.0\n",
       "torch_spline_conv\t1.2.2+pt22cu118\n",
       "----\t----\n",
       "Python\t3.11.8 | packaged by Anaconda, Inc. | (main, Feb 26 2024, 21:34:05) [MSC v.1916 64 bit (AMD64)]\n",
       "OS\tWindows-10-10.0.26100-SP0\n",
       "CPU\t24 logical CPU cores, Intel64 Family 6 Model 191 Stepping 2, GenuineIntel\n",
       "GPU\tID: 0, NVIDIA GeForce RTX 4070 Laptop GPU, Driver: 576.80, Memory: 8188 MiB\n",
       "Updated\t2025-07-24 09:51"
      ]
     },
     "execution_count": 37,
     "metadata": {},
     "output_type": "execute_result"
    }
   ],
   "source": [
    "# Core ML & Data Libraries\n",
    "import scanpy as sc\n",
    "import torch\n",
    "import numpy as np\n",
    "import pandas as pd\n",
    "import h5py\n",
    "import glob\n",
    "from sklearn.linear_model import LinearRegression\n",
    "\n",
    "# PyTorch Geometric Components\n",
    "from torch_geometric.loader import DataLoader\n",
    "from torch_geometric.data import Dataset, Data\n",
    "from torch_geometric.nn import SchNet\n",
    "\n",
    "# Plotting Libraries\n",
    "import matplotlib.pyplot as plt\n",
    "import seaborn as sns\n",
    "\n",
    "# Utilities\n",
    "from tqdm.notebook import tqdm\n",
    "import warnings\n",
    "warnings.filterwarnings(\"ignore\", category=UserWarning, message=\"The '__version__' attribute is deprecated\")\n",
    "plt.rcParams.update({'figure.dpi': 80, 'figure.facecolor': 'white'})\n",
    "\n",
    "# Set plotting aesthetics using matplotlib directly to bypass the bug\n",
    "plt.rcParams.update({'figure.dpi': 80, 'figure.facecolor': 'white'})\n",
    "\n",
    "# The rest of the cell is fine\n",
    "sc.logging.print_header()"
   ]
  },
  {
   "cell_type": "markdown",
   "id": "9123385d-24ca-4253-bdd0-b409f00e0f1d",
   "metadata": {},
   "source": [
    "<div style=\"\n",
    "    border-left: 4px solid #009688;\n",
    "    background: #e0f1f1;\n",
    "    padding: 16px;\n",
    "    margin: 20px 0;\n",
    "    border-radius: 6px;\n",
    "\">\n",
    "  <h3 style=\"margin:0; color:#009688;\">⚙️ 1. Setup and Configuration</h3>\n",
    "  <p style=\"margin:12px 0 0 0;\">\n",
    "    This cell handles the initial setup. It imports necessary libraries such as <b>PyTorch</b>, <b>PyTorch Geometric</b>, and <b>h5py</b>. A configuration dictionary `CONFIG` is defined to manage hyperparameters and data paths. It also sets up the computational device (CUDA or CPU) and a mapping from atomic symbols (H, C, N, O) to their atomic numbers (Z), which is essential for the model.\n",
    "  </p>\n",
    "</div>"
   ]
  },
  {
   "cell_type": "code",
   "execution_count": 40,
   "id": "3e4c4e3a-8b37-4da0-a33c-8833baceeab5",
   "metadata": {},
   "outputs": [
    {
     "name": "stdout",
     "output_type": "stream",
     "text": [
      "Using device: cuda\n"
     ]
    }
   ],
   "source": [
    "import seaborn as sns\n",
    "import torch\n",
    "import numpy as np\n",
    "import glob\n",
    "import h5py\n",
    "from tqdm.notebook import tqdm\n",
    "from torch_geometric.loader import DataLoader\n",
    "from torch_geometric.data import Dataset, Data\n",
    "from torch_geometric.nn import SchNet\n",
    "\n",
    "sns.set_theme(style=\"whitegrid\")\n",
    "\n",
    "# Configuration dictionary\n",
    "CONFIG = {\n",
    "    \"data_path\": \"C:/Users/vince/ANI-1_release/ani_gdb_s0?.h5\",\n",
    "    \"max_graphs\": 10000,\n",
    "    \"train_split\": 0.8,\n",
    "    \"batch_size\": 64,\n",
    "    \"hidden_channels\": 128,\n",
    "    \"num_filters\": 128,\n",
    "    \"num_interactions\": 6,\n",
    "    \"num_gaussians\": 50,\n",
    "    \"cutoff\": 5.0,\n",
    "    \"lr\": 1e-4,\n",
    "    \"epochs\": 20,\n",
    "}\n",
    "\n",
    "# Set up device and atomic number mapping\n",
    "device = torch.device('cuda' if torch.cuda.is_available() else 'cpu')\n",
    "symbol_to_Z = {\"H\": 1, \"C\": 6, \"N\": 7, \"O\": 8}\n",
    "print(f\"Using device: {device}\")"
   ]
  },
  {
   "cell_type": "markdown",
   "id": "340a70cf-e3c7-4c79-89a2-5cc7389f6f30",
   "metadata": {},
   "source": [
    "<div style=\"\n",
    "    border-left: 4px solid #009688;\n",
    "    background: #e0f1f1;\n",
    "    padding: 16px;\n",
    "    margin: 20px 0;\n",
    "    border-radius: 6px;\n",
    "\">\n",
    "  <h3 style=\"margin:0; color:#009688;\">🔬 2. Data Exploration: Inspecting the HDF5 Shards</h3>\n",
    "  <p style=\"margin:12px 0 0 0;\">\n",
    "    Before processing the data, this cell performs a quick exploration of the HDF5 file structure. It uses `glob` to find all data shards and `h5py` to open the first one. It then recursively lists the groups and datasets within the file, printing their names, shapes, and data types. This inspection reveals that each shard contains groups of molecules, and each molecule group contains datasets for atomic species, 3D coordinates for multiple conformers, and their corresponding energies.\n",
    "  </p>\n",
    "</div>"
   ]
  },
  {
   "cell_type": "code",
   "execution_count": 42,
   "id": "816f45e2-265e-45b4-9b50-e5d6409cb155",
   "metadata": {},
   "outputs": [
    {
     "name": "stdout",
     "output_type": "stream",
     "text": [
      "Found 8 shards.\n",
      "\n",
      "\n",
      "Shard: C:/Users/vince/ANI-1_release\\ani_gdb_s01.h5\n",
      " Top group: gdb11_s01\n",
      " Contains 3 molecule groups:\n",
      "    - gdb11_s01-0: ['coordinates', 'coordinatesHE', 'energies', 'energiesHE', 'smiles', 'species']\n",
      "    - gdb11_s01-1: ['coordinates', 'coordinatesHE', 'energies', 'energiesHE', 'smiles', 'species']\n",
      "    - gdb11_s01-2: ['coordinates', 'coordinatesHE', 'energies', 'energiesHE', 'smiles', 'species']\n",
      "\n",
      "  First molecule (`gdb11_s01-0`) datasets and shapes:\n",
      "     • coordinates: shape=(5400, 5, 3), dtype=float32\n",
      "     • coordinatesHE: shape=(0, 5, 3), dtype=float32\n",
      "     • energies: shape=(5400,), dtype=float64\n",
      "     • energiesHE: shape=(0,), dtype=float64\n",
      "     • smiles: shape=(17,), dtype=|S1\n",
      "     • species: shape=(5,), dtype=|S1\n",
      "\n",
      "  Example molecule has 5 atoms.\n",
      "  Species (atomic numbers): [b'C' b'H' b'H' b'H' b'H']\n",
      "  First conformer coords (Å):\n",
      " [[-0.0034502   0.01017081  0.01938033]\n",
      " [-0.7954868   0.5766599  -0.5472012 ]\n",
      " [-0.39378393 -0.97992676  0.2722862 ]\n",
      " [ 0.6344988   0.4473651   0.93568736]\n",
      " [ 0.59581804 -0.16517928 -0.8915708 ]]\n",
      "  Energies (Hartree): [-40.48058817 -40.48311923 -40.48473545 -40.49200835 -40.4557475 ]\n"
     ]
    }
   ],
   "source": [
    "import glob\n",
    "import h5py\n",
    "\n",
    "# 1) Locate the shards\n",
    "shard_paths = glob.glob(CONFIG[\"data_path\"])\n",
    "print(f\"Found {len(shard_paths)} shards.\\n\")\n",
    "\n",
    "# 2) Scan each file\n",
    "for shard in shard_paths:\n",
    "    with h5py.File(shard, 'r') as f:\n",
    "        top_group = list(f.keys())[0]\n",
    "        print(f\"\\nShard: {shard}\")\n",
    "        print(f\" Top group: {top_group}\")\n",
    "\n",
    "        root = f[top_group]\n",
    "        subgroup_keys = list(root.keys())\n",
    "        print(f\" Contains {len(subgroup_keys)} molecule groups:\")\n",
    "        \n",
    "        # 3) Inspect each molecule subgroup\n",
    "        for mol_key in subgroup_keys:\n",
    "            mol_grp = root[mol_key]\n",
    "            dataset_names = list(mol_grp.keys())\n",
    "            print(f\"    - {mol_key}: {dataset_names}\")\n",
    "\n",
    "        # 4) Peek inside the first molecule group for detailed info\n",
    "        first = root[subgroup_keys[0]]\n",
    "        print(f\"\\n  First molecule (`{subgroup_keys[0]}`) datasets and shapes:\")\n",
    "        for name, ds in first.items():\n",
    "            print(f\"     • {name}: shape={ds.shape}, dtype={ds.dtype}\")\n",
    "\n",
    "        # 5) Show example data from the first molecule\n",
    "        species    = first['species'][:]       # atomic numbers\n",
    "        coords     = first['coordinates'][0]   # first conformer\n",
    "        energies   = first['energies'][:]      # all conformer energies\n",
    "        \n",
    "        print(f\"\\n  Example molecule has {species.shape[0]} atoms.\")\n",
    "        print(\"  Species (atomic numbers):\", species)\n",
    "        print(\"  First conformer coords (Å):\\n\", coords)\n",
    "        print(\"  Energies (Hartree):\", energies[:5])\n",
    "        break  # only inspect first shard in detail\n"
   ]
  },
  {
   "cell_type": "markdown",
   "id": "4b357915-acb9-47ba-be42-a9438901c9fb",
   "metadata": {},
   "source": [
    "<div style=\"\n",
    "    border-left: 4px solid #009688;\n",
    "    background: #e0f1f1;\n",
    "    padding: 16px;\n",
    "    margin: 20px 0;\n",
    "    border-radius: 6px;\n",
    "\">\n",
    "  <h3 style=\"margin:0; color:#009688;\">🛠️ 3. Data Preparation and Loading</h3>\n",
    "  <p style=\"margin:12px 0 0 0;\">\n",
    "    This cell implements a sophisticated data loading pipeline. The key steps are:<br>\n",
    "    <b>1. Fit Atomic Baseline Energies:</b> A linear regression model is fit on a sample of the data to determine the average energy contribution per atom type (H, C, N, O). This baseline is used to calculate residual energies, which simplifies the learning task for the GNN.<br>\n",
    "    <b>2. Conformer Dataset Class:</b> A custom PyTorch Geometric `Dataset` is defined. Instead of loading all 22 million conformers into memory, its `process` method scans the HDF5 files once to create a `conformer_map`. This map is an index that links a dataset index to a specific conformer's location (file path, molecule key, and conformer index). The `get` method then loads only the requested conformer from disk on-the-fly.<br>\n",
    "    <b>3. Cleaning and Splitting:</b> The dataset is filtered to remove high-energy, unrealistic conformers that could destabilize training. It is then shuffled and split into training and testing sets.<br>\n",
    "    <b>4. Normalization:</b> The mean and standard deviation of the <b>residual energies</b> in the training set are calculated. A transform is then applied to the datasets to normalize the target values (y) on-the-fly during training, which is a standard practice for improving model convergence.\n",
    "  </p>\n",
    "</div>"
   ]
  },
  {
   "cell_type": "code",
   "execution_count": 44,
   "id": "d8157c30-6431-4eb1-a4f1-5779fee3697e",
   "metadata": {},
   "outputs": [
    {
     "name": "stdout",
     "output_type": "stream",
     "text": [
      "Fitting atomic reference energies on a sample...\n"
     ]
    },
    {
     "data": {
      "application/vnd.jupyter.widget-view+json": {
       "model_id": "e825aacbbbdf4b82afabb48f2cfc7309",
       "version_major": 2,
       "version_minor": 0
      },
      "text/plain": [
       "Reading data for baseline fit:   0%|          | 0/10000 [00:00<?, ?it/s]"
      ]
     },
     "metadata": {},
     "output_type": "display_data"
    },
    {
     "name": "stdout",
     "output_type": "stream",
     "text": [
      "Fitted atomic baselines (Hartree): {1: -0.6040844515710969, 6: -38.071088265205915, 7: -54.70918913311276, 8: -75.18274120214579}\n",
      "Scanning HDF5 files to build conformer map...\n"
     ]
    },
    {
     "name": "stderr",
     "output_type": "stream",
     "text": [
      "Processing...\n"
     ]
    },
    {
     "name": "stdout",
     "output_type": "stream",
     "text": [
      "Scan complete. Found 22057374 total conformers.\n",
      "\n",
      "Working with 10000 conformers.\n"
     ]
    },
    {
     "name": "stderr",
     "output_type": "stream",
     "text": [
      "Done!\n"
     ]
    },
    {
     "data": {
      "application/vnd.jupyter.widget-view+json": {
       "model_id": "5460e72839324cdcb60646ac426b8a44",
       "version_major": 2,
       "version_minor": 0
      },
      "text/plain": [
       "Cleaning dataset:   0%|          | 0/10000 [00:00<?, ?it/s]"
      ]
     },
     "metadata": {},
     "output_type": "display_data"
    },
    {
     "name": "stdout",
     "output_type": "stream",
     "text": [
      "Clean dataset size after filtering: 10000\n",
      "\n",
      "Calculating RESIDUAL normalization stats...\n"
     ]
    },
    {
     "data": {
      "application/vnd.jupyter.widget-view+json": {
       "model_id": "afb0f7bde5aa48a89f9ae7e0bd3d1b5d",
       "version_major": 2,
       "version_minor": 0
      },
      "text/plain": [
       "Reading residual energies:   0%|          | 0/8000 [00:00<?, ?it/s]"
      ]
     },
     "metadata": {},
     "output_type": "display_data"
    },
    {
     "name": "stdout",
     "output_type": "stream",
     "text": [
      "Residual Mean: 0.0116, Residual Std: 0.0124\n",
      "\n",
      "✅ Data setup complete. Train: 8000 | Test: 2000\n"
     ]
    }
   ],
   "source": [
    "\n",
    "import glob\n",
    "import h5py\n",
    "import numpy as np\n",
    "import torch\n",
    "from tqdm.notebook import tqdm\n",
    "from sklearn.linear_model import LinearRegression\n",
    "from torch_geometric.data import Dataset, Data\n",
    "from torch_geometric.loader import DataLoader\n",
    "\n",
    "# --- Step 1: Fit Atomic Baseline Energies ---\n",
    "# We'll use a sample of the data to find the average energy per atom type.\n",
    "print(\"Fitting atomic reference energies on a sample...\")\n",
    "X_fit, y_fit = [], []\n",
    "sample_count = 0\n",
    "\n",
    "# Create a temporary index to sample from\n",
    "temp_index = []\n",
    "for path in glob.glob(CONFIG[\"data_path\"]):\n",
    "    with h5py.File(path, \"r\") as f:\n",
    "        grp = list(f.keys())[0]\n",
    "        for mol in f[grp].keys():\n",
    "            temp_index.append((path, grp, mol))\n",
    "\n",
    "rng = np.random.default_rng(42)\n",
    "sample_indices = rng.choice(len(temp_index), size=min(10000, len(temp_index)), replace=False)\n",
    "\n",
    "for i in tqdm(sample_indices, desc=\"Reading data for baseline fit\"):\n",
    "    path, grp, mol = temp_index[i]\n",
    "    with h5py.File(path, \"r\") as f:\n",
    "        m = f[grp][mol]\n",
    "        species = m[\"species\"][:]\n",
    "        # Use only the first conformer's energy for this simple linear fit\n",
    "        E_tot = float(m[\"energies\"][0])\n",
    "    counts = [(species == sym).sum() for sym in (b'H', b'C', b'N', b'O')]\n",
    "    X_fit.append(counts)\n",
    "    y_fit.append(E_tot)\n",
    "\n",
    "# Fit a linear model: E_total ≈ n_H*α_H + n_C*α_C + ...\n",
    "lin_reg = LinearRegression(fit_intercept=False).fit(X_fit, y_fit)\n",
    "ref_E = {1: lin_reg.coef_[0], 6: lin_reg.coef_[1], 7: lin_reg.coef_[2], 8: lin_reg.coef_[3]}\n",
    "print(\"Fitted atomic baselines (Hartree):\", ref_E)\n",
    "del X_fit, y_fit, temp_index # Clean up memory\n",
    "\n",
    "\n",
    "# --- Step 2: Define the Dataset Class for ALL Conformers ---\n",
    "class ConformerDataset(Dataset):\n",
    "    def __init__(self, root, h5_path_pattern, ref_energies, transform=None, pre_transform=None):\n",
    "        self.h5_path_pattern = h5_path_pattern\n",
    "        self.ref_energies = ref_energies\n",
    "        # This list will map an index (0, 1, 2...) to a specific conformer's location\n",
    "        self.conformer_map = []\n",
    "        super().__init__(root, transform, pre_transform)\n",
    "\n",
    "    @property\n",
    "    def raw_file_names(self): return glob.glob(self.h5_path_pattern)\n",
    "    @property\n",
    "    def processed_file_names(self): return [] # We process on-the-fly\n",
    "    def download(self): pass\n",
    "\n",
    "    def process(self):\n",
    "        \"\"\"Scans all HDF5 files to build a map of every single conformer.\"\"\"\n",
    "        print(\"Scanning HDF5 files to build conformer map...\")\n",
    "        for h5_path in self.raw_paths:\n",
    "            with h5py.File(h5_path, 'r') as f:\n",
    "                shard = f[list(f.keys())[0]]\n",
    "                for mol_key, mol_group in shard.items():\n",
    "                    # For each molecule, find how many conformers it has\n",
    "                    num_conformers = mol_group['coordinates'].shape[0]\n",
    "                    for i in range(num_conformers):\n",
    "                        # Store a tuple: (path, molecule_key, index_of_conformer)\n",
    "                        self.conformer_map.append((h5_path, mol_key, i))\n",
    "        print(f\"Scan complete. Found {len(self.conformer_map)} total conformers.\")\n",
    "\n",
    "    def len(self):\n",
    "        return len(self.conformer_map)\n",
    "\n",
    "    def get(self, idx):\n",
    "        \"\"\"Loads ONLY the requested conformer from disk and computes its residual.\"\"\"\n",
    "        h5_path, mol_key, conformer_idx = self.conformer_map[idx]\n",
    "        with h5py.File(h5_path, 'r') as f:\n",
    "            mol_group = f[list(f.keys())[0]][mol_key]\n",
    "            coords = mol_group[\"coordinates\"][conformer_idx]\n",
    "            species_bytes = mol_group[\"species\"][:]\n",
    "            E_total = mol_group[\"energies\"][conformer_idx]\n",
    "\n",
    "        species_int = [symbol_to_Z[s.decode()] for s in species_bytes]\n",
    "        E_baseline = sum(self.ref_energies[z] for z in species_int)\n",
    "        E_residual = E_total - E_baseline\n",
    "\n",
    "        return Data(\n",
    "            z=torch.tensor(species_int, dtype=torch.long),\n",
    "            pos=torch.tensor(coords, dtype=torch.float),\n",
    "            y=torch.tensor([E_residual], dtype=torch.float),\n",
    "            baseline=torch.tensor([E_baseline], dtype=torch.float) # Store for evaluation\n",
    "        )\n",
    "\n",
    "# --- Step 3: Instantiate, Clean, and Create Loaders ---\n",
    "# Create the dataset. The `process` method will run automatically on first use.\n",
    "initial_dataset = ConformerDataset(root='./data_conformers', h5_path_pattern=CONFIG[\"data_path\"], ref_energies=ref_E)\n",
    "\n",
    "# Optional: Limit the number of graphs if the full set is too large\n",
    "if CONFIG[\"max_graphs\"] < len(initial_dataset):\n",
    "    initial_dataset = initial_dataset[:CONFIG[\"max_graphs\"]]\n",
    "\n",
    "print(f\"\\nWorking with {len(initial_dataset)} conformers.\")\n",
    "\n",
    "# Clean the dataset by filtering out conformers with very high residual energies\n",
    "# This removes unrealistic structures that can destabilize training.\n",
    "clean_indices = [i for i, g in enumerate(tqdm(initial_dataset, desc=\"Cleaning dataset\")) if abs(g.y.item()) < 1.0]\n",
    "dataset = initial_dataset[clean_indices]\n",
    "print(f\"Clean dataset size after filtering: {len(dataset)}\")\n",
    "\n",
    "# Split the final, clean dataset\n",
    "N = len(dataset)\n",
    "torch.manual_seed(42)\n",
    "perm = torch.randperm(N)\n",
    "split_idx = int(CONFIG[\"train_split\"] * N)\n",
    "train_dataset = dataset[perm[:split_idx]]\n",
    "test_dataset = dataset[perm[split_idx:]]\n",
    "\n",
    "# Calculate normalization stats on the RESIDUALS of the training set\n",
    "print(\"\\nCalculating RESIDUAL normalization stats...\")\n",
    "res_energies = torch.cat([g.y for g in tqdm(train_dataset, desc=\"Reading residual energies\")])\n",
    "E_mean_res = res_energies.mean()\n",
    "E_std_res = res_energies.std()\n",
    "print(f\"Residual Mean: {E_mean_res:.4f}, Residual Std: {E_std_res:.4f}\")\n",
    "\n",
    "# Define the normalization transform to be applied on-the-fly\n",
    "def normalize_residual(data):\n",
    "    data.y = (data.y - E_mean_res) / E_std_res\n",
    "    return data\n",
    "train_dataset.transform = normalize_residual\n",
    "test_dataset.transform = normalize_residual\n",
    "\n",
    "# Create the final DataLoaders\n",
    "train_loader = DataLoader(train_dataset, batch_size=CONFIG[\"batch_size\"], shuffle=True, num_workers=0)\n",
    "test_loader = DataLoader(test_dataset, batch_size=CONFIG[\"batch_size\"], shuffle=False, num_workers=0)\n",
    "\n",
    "print(f\"\\n✅ Data setup complete. Train: {len(train_dataset)} | Test: {len(test_dataset)}\")"
   ]
  },
  {
   "cell_type": "markdown",
   "id": "5a9f6e02-d2b6-42c1-9165-5df3ce34120e",
   "metadata": {},
   "source": [
    "<div style=\"\n",
    "    border-left: 4px solid #009688;\n",
    "    background: #e0f1f1;\n",
    "    padding: 16px;\n",
    "    margin: 20px 0;\n",
    "    border-radius: 6px;\n",
    "\">\n",
    "  <h3 style=\"margin:0; color:#009688;\">📊 3a. Data Quality Inspection</h3>\n",
    "  <p style=\"margin:12px 0 0 0;\">\n",
    "    Before training the model, it's crucial to inspect the quality of our final, cleaned dataset. This cell iterates through all conformers to collect key statistics. It checks for <b>missing values</b> (NaNs) in energies or coordinates and calculates the <b>mean, standard deviation, min, and max</b> for energies and molecule sizes. Finally, it visualizes the distributions of these properties using histograms to give us a clear picture of the data's characteristics.\n",
    "  </p>\n",
    "</div>"
   ]
  },
  {
   "cell_type": "code",
   "execution_count": 57,
   "id": "bde0ee74-698c-4445-b4f2-3617e09a7f82",
   "metadata": {},
   "outputs": [
    {
     "name": "stdout",
     "output_type": "stream",
     "text": [
      "Inspecting the quality of 10000 conformers...\n"
     ]
    },
    {
     "data": {
      "application/vnd.jupyter.widget-view+json": {
       "model_id": "66df779268b04bc7b4ee80abc726a6f8",
       "version_major": 2,
       "version_minor": 0
      },
      "text/plain": [
       "Collecting stats:   0%|          | 0/10000 [00:00<?, ?it/s]"
      ]
     },
     "metadata": {},
     "output_type": "display_data"
    },
    {
     "name": "stdout",
     "output_type": "stream",
     "text": [
      "\n",
      "--- Data Quality Report ---\n",
      "Total Conformers Analyzed: 10,000\n",
      "------------------------------\n",
      "\n",
      "[Missing / Invalid Data]\n",
      "Conformers with missing energy (NaN): 0\n",
      "Conformers with invalid coordinates (NaN): 0\n",
      "------------------------------\n",
      "\n",
      "[Energy Statistics (Hartrees)]\n",
      "Total Energy:    Mean=-49.8385, Std=11.5660, Min=-76.3882, Max=-40.4397\n",
      "Residual Energy: Mean=0.0115, Std=0.0123, Min=-0.0122, Max=0.0477\n",
      "------------------------------\n",
      "\n",
      "[Molecule Size Statistics]\n",
      "Num Atoms:       Mean=4.44, Std=0.67, Min=3, Max=5\n",
      "------------------------------\n",
      "\n",
      "[Atomic Composition]\n",
      "Total 'H' atoms: 34,400 (77.48%)\n",
      "Total 'C' atoms: 5,400 (12.16%)\n",
      "Total 'N' atoms: 3,600 (8.11%)\n",
      "Total 'O' atoms: 1,000 (2.25%)\n",
      "------------------------------\n"
     ]
    },
    {
     "data": {
      "image/png": "[encoded data removed]",
      "text/plain": [
       "<Figure size 1440x400 with 3 Axes>"
      ]
     },
     "metadata": {},
     "output_type": "display_data"
    }
   ],
   "source": [
    "import numpy as np\n",
    "import pandas as pd\n",
    "import matplotlib.pyplot as plt\n",
    "import seaborn as sns\n",
    "from tqdm.notebook import tqdm\n",
    "\n",
    "# --- Step 1: Initialize collectors for statistics ---\n",
    "print(f\"Inspecting the quality of {len(dataset)} conformers...\")\n",
    "total_energies = []\n",
    "residual_energies = []\n",
    "num_atoms_list = []\n",
    "atom_counts = {1: 0, 6: 0, 7: 0, 8: 0} # H, C, N, O\n",
    "missing_energy_count = 0\n",
    "invalid_coords_count = 0\n",
    "Z_to_symbol = {1: \"H\", 6: \"C\", 7: \"N\", 8: \"O\"}\n",
    "\n",
    "# --- Step 2: Iterate through the dataset to collect data ---\n",
    "# This is done once to be memory efficient\n",
    "for g in tqdm(dataset, desc=\"Collecting stats\"):\n",
    "    # Check for missing energy values\n",
    "    if torch.isnan(g.y).any():\n",
    "        missing_energy_count += 1\n",
    "        continue # Skip this data point if energy is missing\n",
    "        \n",
    "    # Check for invalid coordinates\n",
    "    if torch.isnan(g.pos).any():\n",
    "        invalid_coords_count += 1\n",
    "        continue\n",
    "\n",
    "    # Collect data points\n",
    "    residual_energies.append(g.y.item())\n",
    "    total_energies.append(g.y.item() + g.baseline.item())\n",
    "    num_atoms_list.append(len(g.z))\n",
    "    \n",
    "    # Count atom types\n",
    "    for atom_z in g.z.tolist():\n",
    "        if atom_z in atom_counts:\n",
    "            atom_counts[atom_z] += 1\n",
    "\n",
    "# Convert lists to numpy arrays for easier calculations\n",
    "total_energies = np.array(total_energies)\n",
    "residual_energies = np.array(residual_energies)\n",
    "num_atoms_list = np.array(num_atoms_list)\n",
    "\n",
    "# --- Step 3: Print the Statistical Summary ---\n",
    "print(\"\\n--- Data Quality Report ---\")\n",
    "print(f\"Total Conformers Analyzed: {len(total_energies):,}\")\n",
    "print(\"-\" * 30)\n",
    "\n",
    "print(\"\\n[Missing / Invalid Data]\")\n",
    "print(f\"Conformers with missing energy (NaN): {missing_energy_count}\")\n",
    "print(f\"Conformers with invalid coordinates (NaN): {invalid_coords_count}\")\n",
    "print(\"-\" * 30)\n",
    "\n",
    "print(\"\\n[Energy Statistics (Hartrees)]\")\n",
    "print(f\"Total Energy:    Mean={total_energies.mean():.4f}, Std={total_energies.std():.4f}, Min={total_energies.min():.4f}, Max={total_energies.max():.4f}\")\n",
    "print(f\"Residual Energy: Mean={residual_energies.mean():.4f}, Std={residual_energies.std():.4f}, Min={residual_energies.min():.4f}, Max={residual_energies.max():.4f}\")\n",
    "print(\"-\" * 30)\n",
    "\n",
    "print(\"\\n[Molecule Size Statistics]\")\n",
    "print(f\"Num Atoms:       Mean={num_atoms_list.mean():.2f}, Std={num_atoms_list.std():.2f}, Min={num_atoms_list.min()}, Max={num_atoms_list.max()}\")\n",
    "print(\"-\" * 30)\n",
    "\n",
    "print(\"\\n[Atomic Composition]\")\n",
    "total_atoms = sum(atom_counts.values())\n",
    "for z, count in atom_counts.items():\n",
    "    print(f\"Total '{Z_to_symbol[z]}' atoms: {count:,} ({count/total_atoms:.2%})\")\n",
    "print(\"-\" * 30)\n",
    "\n",
    "\n",
    "# --- Step 4: Visualize Distributions ---\n",
    "fig, axes = plt.subplots(1, 3, figsize=(18, 5))\n",
    "sns.histplot(total_energies, kde=True, ax=axes[0], bins=50)\n",
    "axes[0].set_title(\"Distribution of Total Energies (Hartree)\")\n",
    "axes[0].set_xlabel(\"Total Energy\")\n",
    "\n",
    "sns.histplot(residual_energies, kde=True, ax=axes[1], bins=50)\n",
    "axes[1].set_title(\"Distribution of Residual Energies (Hartree)\")\n",
    "axes[1].set_xlabel(\"Residual Energy\")\n",
    "\n",
    "sns.histplot(num_atoms_list, kde=False, ax=axes[2], bins=np.arange(num_atoms_list.min(), num_atoms_list.max() + 2) - 0.5)\n",
    "axes[2].set_title(\"Distribution of Molecule Sizes (# Atoms)\")\n",
    "axes[2].set_xlabel(\"Number of Atoms\")\n",
    "axes[2].set_xticks(np.arange(num_atoms_list.min(), num_atoms_list.max() + 1))\n",
    "\n",
    "\n",
    "plt.tight_layout()\n",
    "plt.show()"
   ]
  },
  {
   "cell_type": "markdown",
   "id": "6df3add3-b139-447e-81ad-fdc38cc75e05",
   "metadata": {},
   "source": [
    "<div style=\"\n",
    "    border-left: 4px solid #009688;\n",
    "    background: #e0f1f1;\n",
    "    padding: 16px;\n",
    "    margin: 20px 0;\n",
    "    border-radius: 6px;\n",
    "\">\n",
    "  <h3 style=\"margin:0; color:#009688;\">🧠 4. Model Training</h3>\n",
    "  <p style=\"margin:12px 0 0 0;\">\n",
    "    This cell defines and executes the model training loop. <br>\n",
    "    <b>Model:</b> A <b>SchNet</b> graph neural network is instantiated with hyperparameters from the `CONFIG` dictionary. <br>\n",
    "    <b>Training:</b> The model is trained using an Adam optimizer and a Smooth L1 Loss function (Huber Loss) on the <b>normalized residual energies</b>. A learning rate scheduler (`ReduceLROnPlateau`) is used to decrease the learning rate if validation performance stagnates. <br>\n",
    "    <b>Evaluation:</b> During evaluation on the test set, the model's output (predicted normalized residual) is un-normalized, and the atomic baseline energy is added back to get the final predicted total energy. The Mean Absolute Error (MAE) between the predicted and true <b>total energies</b> is calculated in kcal/mol. The model state is saved whenever a new best MAE is achieved.\n",
    "  </p>\n",
    "</div>"
   ]
  },
  {
   "cell_type": "code",
   "execution_count": 46,
   "id": "bf523940-4bd5-44ea-afaf-2d480dea07c0",
   "metadata": {},
   "outputs": [
    {
     "data": {
      "application/vnd.jupyter.widget-view+json": {
       "model_id": "",
       "version_major": 2,
       "version_minor": 0
      },
      "text/plain": [
       "Epoch 1 Training:   0%|          | 0/125 [00:00<?, ?it/s]"
      ]
     },
     "metadata": {},
     "output_type": "display_data"
    },
    {
     "data": {
      "application/vnd.jupyter.widget-view+json": {
       "model_id": "",
       "version_major": 2,
       "version_minor": 0
      },
      "text/plain": [
       "Epoch 1 Eval:   0%|          | 0/32 [00:00<?, ?it/s]"
      ]
     },
     "metadata": {},
     "output_type": "display_data"
    },
    {
     "name": "stdout",
     "output_type": "stream",
     "text": [
      "Epoch 01 | Train Loss (Res): 0.6927 | Test MAE: 3.25 kcal/mol\n",
      "  🔥 New best MAE: 3.25 kcal/mol — model saved.\n"
     ]
    },
    {
     "data": {
      "application/vnd.jupyter.widget-view+json": {
       "model_id": "",
       "version_major": 2,
       "version_minor": 0
      },
      "text/plain": [
       "Epoch 2 Training:   0%|          | 0/125 [00:00<?, ?it/s]"
      ]
     },
     "metadata": {},
     "output_type": "display_data"
    },
    {
     "data": {
      "application/vnd.jupyter.widget-view+json": {
       "model_id": "",
       "version_major": 2,
       "version_minor": 0
      },
      "text/plain": [
       "Epoch 2 Eval:   0%|          | 0/32 [00:00<?, ?it/s]"
      ]
     },
     "metadata": {},
     "output_type": "display_data"
    },
    {
     "name": "stdout",
     "output_type": "stream",
     "text": [
      "Epoch 02 | Train Loss (Res): 0.2647 | Test MAE: 1.86 kcal/mol\n",
      "  🔥 New best MAE: 1.86 kcal/mol — model saved.\n"
     ]
    },
    {
     "data": {
      "application/vnd.jupyter.widget-view+json": {
       "model_id": "",
       "version_major": 2,
       "version_minor": 0
      },
      "text/plain": [
       "Epoch 3 Training:   0%|          | 0/125 [00:00<?, ?it/s]"
      ]
     },
     "metadata": {},
     "output_type": "display_data"
    },
    {
     "data": {
      "application/vnd.jupyter.widget-view+json": {
       "model_id": "",
       "version_major": 2,
       "version_minor": 0
      },
      "text/plain": [
       "Epoch 3 Eval:   0%|          | 0/32 [00:00<?, ?it/s]"
      ]
     },
     "metadata": {},
     "output_type": "display_data"
    },
    {
     "name": "stdout",
     "output_type": "stream",
     "text": [
      "Epoch 03 | Train Loss (Res): 0.1936 | Test MAE: 1.68 kcal/mol\n",
      "  🔥 New best MAE: 1.68 kcal/mol — model saved.\n"
     ]
    },
    {
     "data": {
      "application/vnd.jupyter.widget-view+json": {
       "model_id": "",
       "version_major": 2,
       "version_minor": 0
      },
      "text/plain": [
       "Epoch 4 Training:   0%|          | 0/125 [00:00<?, ?it/s]"
      ]
     },
     "metadata": {},
     "output_type": "display_data"
    },
    {
     "data": {
      "application/vnd.jupyter.widget-view+json": {
       "model_id": "",
       "version_major": 2,
       "version_minor": 0
      },
      "text/plain": [
       "Epoch 4 Eval:   0%|          | 0/32 [00:00<?, ?it/s]"
      ]
     },
     "metadata": {},
     "output_type": "display_data"
    },
    {
     "name": "stdout",
     "output_type": "stream",
     "text": [
      "Epoch 04 | Train Loss (Res): 0.1860 | Test MAE: 1.54 kcal/mol\n",
      "  🔥 New best MAE: 1.54 kcal/mol — model saved.\n"
     ]
    },
    {
     "data": {
      "application/vnd.jupyter.widget-view+json": {
       "model_id": "",
       "version_major": 2,
       "version_minor": 0
      },
      "text/plain": [
       "Epoch 5 Training:   0%|          | 0/125 [00:00<?, ?it/s]"
      ]
     },
     "metadata": {},
     "output_type": "display_data"
    },
    {
     "data": {
      "application/vnd.jupyter.widget-view+json": {
       "model_id": "",
       "version_major": 2,
       "version_minor": 0
      },
      "text/plain": [
       "Epoch 5 Eval:   0%|          | 0/32 [00:00<?, ?it/s]"
      ]
     },
     "metadata": {},
     "output_type": "display_data"
    },
    {
     "name": "stdout",
     "output_type": "stream",
     "text": [
      "Epoch 05 | Train Loss (Res): 0.1386 | Test MAE: 1.24 kcal/mol\n",
      "  🔥 New best MAE: 1.24 kcal/mol — model saved.\n"
     ]
    },
    {
     "data": {
      "application/vnd.jupyter.widget-view+json": {
       "model_id": "",
       "version_major": 2,
       "version_minor": 0
      },
      "text/plain": [
       "Epoch 6 Training:   0%|          | 0/125 [00:00<?, ?it/s]"
      ]
     },
     "metadata": {},
     "output_type": "display_data"
    },
    {
     "data": {
      "application/vnd.jupyter.widget-view+json": {
       "model_id": "",
       "version_major": 2,
       "version_minor": 0
      },
      "text/plain": [
       "Epoch 6 Eval:   0%|          | 0/32 [00:00<?, ?it/s]"
      ]
     },
     "metadata": {},
     "output_type": "display_data"
    },
    {
     "name": "stdout",
     "output_type": "stream",
     "text": [
      "Epoch 06 | Train Loss (Res): 0.1232 | Test MAE: 1.69 kcal/mol\n"
     ]
    },
    {
     "data": {
      "application/vnd.jupyter.widget-view+json": {
       "model_id": "",
       "version_major": 2,
       "version_minor": 0
      },
      "text/plain": [
       "Epoch 7 Training:   0%|          | 0/125 [00:00<?, ?it/s]"
      ]
     },
     "metadata": {},
     "output_type": "display_data"
    },
    {
     "data": {
      "application/vnd.jupyter.widget-view+json": {
       "model_id": "",
       "version_major": 2,
       "version_minor": 0
      },
      "text/plain": [
       "Epoch 7 Eval:   0%|          | 0/32 [00:00<?, ?it/s]"
      ]
     },
     "metadata": {},
     "output_type": "display_data"
    },
    {
     "name": "stdout",
     "output_type": "stream",
     "text": [
      "Epoch 07 | Train Loss (Res): 0.1157 | Test MAE: 1.02 kcal/mol\n",
      "  🔥 New best MAE: 1.02 kcal/mol — model saved.\n"
     ]
    },
    {
     "data": {
      "application/vnd.jupyter.widget-view+json": {
       "model_id": "",
       "version_major": 2,
       "version_minor": 0
      },
      "text/plain": [
       "Epoch 8 Training:   0%|          | 0/125 [00:00<?, ?it/s]"
      ]
     },
     "metadata": {},
     "output_type": "display_data"
    },
    {
     "data": {
      "application/vnd.jupyter.widget-view+json": {
       "model_id": "",
       "version_major": 2,
       "version_minor": 0
      },
      "text/plain": [
       "Epoch 8 Eval:   0%|          | 0/32 [00:00<?, ?it/s]"
      ]
     },
     "metadata": {},
     "output_type": "display_data"
    },
    {
     "name": "stdout",
     "output_type": "stream",
     "text": [
      "Epoch 08 | Train Loss (Res): 0.0963 | Test MAE: 0.88 kcal/mol\n",
      "  🔥 New best MAE: 0.88 kcal/mol — model saved.\n"
     ]
    },
    {
     "data": {
      "application/vnd.jupyter.widget-view+json": {
       "model_id": "",
       "version_major": 2,
       "version_minor": 0
      },
      "text/plain": [
       "Epoch 9 Training:   0%|          | 0/125 [00:00<?, ?it/s]"
      ]
     },
     "metadata": {},
     "output_type": "display_data"
    },
    {
     "data": {
      "application/vnd.jupyter.widget-view+json": {
       "model_id": "",
       "version_major": 2,
       "version_minor": 0
      },
      "text/plain": [
       "Epoch 9 Eval:   0%|          | 0/32 [00:00<?, ?it/s]"
      ]
     },
     "metadata": {},
     "output_type": "display_data"
    },
    {
     "name": "stdout",
     "output_type": "stream",
     "text": [
      "Epoch 09 | Train Loss (Res): 0.0957 | Test MAE: 0.91 kcal/mol\n"
     ]
    },
    {
     "data": {
      "application/vnd.jupyter.widget-view+json": {
       "model_id": "",
       "version_major": 2,
       "version_minor": 0
      },
      "text/plain": [
       "Epoch 10 Training:   0%|          | 0/125 [00:00<?, ?it/s]"
      ]
     },
     "metadata": {},
     "output_type": "display_data"
    },
    {
     "data": {
      "application/vnd.jupyter.widget-view+json": {
       "model_id": "",
       "version_major": 2,
       "version_minor": 0
      },
      "text/plain": [
       "Epoch 10 Eval:   0%|          | 0/32 [00:00<?, ?it/s]"
      ]
     },
     "metadata": {},
     "output_type": "display_data"
    },
    {
     "name": "stdout",
     "output_type": "stream",
     "text": [
      "Epoch 10 | Train Loss (Res): 0.0953 | Test MAE: 0.75 kcal/mol\n",
      "  🔥 New best MAE: 0.75 kcal/mol — model saved.\n"
     ]
    },
    {
     "data": {
      "application/vnd.jupyter.widget-view+json": {
       "model_id": "",
       "version_major": 2,
       "version_minor": 0
      },
      "text/plain": [
       "Epoch 11 Training:   0%|          | 0/125 [00:00<?, ?it/s]"
      ]
     },
     "metadata": {},
     "output_type": "display_data"
    },
    {
     "data": {
      "application/vnd.jupyter.widget-view+json": {
       "model_id": "",
       "version_major": 2,
       "version_minor": 0
      },
      "text/plain": [
       "Epoch 11 Eval:   0%|          | 0/32 [00:00<?, ?it/s]"
      ]
     },
     "metadata": {},
     "output_type": "display_data"
    },
    {
     "name": "stdout",
     "output_type": "stream",
     "text": [
      "Epoch 11 | Train Loss (Res): 0.0788 | Test MAE: 1.43 kcal/mol\n"
     ]
    },
    {
     "data": {
      "application/vnd.jupyter.widget-view+json": {
       "model_id": "",
       "version_major": 2,
       "version_minor": 0
      },
      "text/plain": [
       "Epoch 12 Training:   0%|          | 0/125 [00:00<?, ?it/s]"
      ]
     },
     "metadata": {},
     "output_type": "display_data"
    },
    {
     "data": {
      "application/vnd.jupyter.widget-view+json": {
       "model_id": "",
       "version_major": 2,
       "version_minor": 0
      },
      "text/plain": [
       "Epoch 12 Eval:   0%|          | 0/32 [00:00<?, ?it/s]"
      ]
     },
     "metadata": {},
     "output_type": "display_data"
    },
    {
     "name": "stdout",
     "output_type": "stream",
     "text": [
      "Epoch 12 | Train Loss (Res): 0.0612 | Test MAE: 0.75 kcal/mol\n"
     ]
    },
    {
     "data": {
      "application/vnd.jupyter.widget-view+json": {
       "model_id": "",
       "version_major": 2,
       "version_minor": 0
      },
      "text/plain": [
       "Epoch 13 Training:   0%|          | 0/125 [00:00<?, ?it/s]"
      ]
     },
     "metadata": {},
     "output_type": "display_data"
    },
    {
     "data": {
      "application/vnd.jupyter.widget-view+json": {
       "model_id": "",
       "version_major": 2,
       "version_minor": 0
      },
      "text/plain": [
       "Epoch 13 Eval:   0%|          | 0/32 [00:00<?, ?it/s]"
      ]
     },
     "metadata": {},
     "output_type": "display_data"
    },
    {
     "name": "stdout",
     "output_type": "stream",
     "text": [
      "Epoch 13 | Train Loss (Res): 0.0653 | Test MAE: 0.84 kcal/mol\n"
     ]
    },
    {
     "data": {
      "application/vnd.jupyter.widget-view+json": {
       "model_id": "",
       "version_major": 2,
       "version_minor": 0
      },
      "text/plain": [
       "Epoch 14 Training:   0%|          | 0/125 [00:00<?, ?it/s]"
      ]
     },
     "metadata": {},
     "output_type": "display_data"
    },
    {
     "data": {
      "application/vnd.jupyter.widget-view+json": {
       "model_id": "",
       "version_major": 2,
       "version_minor": 0
      },
      "text/plain": [
       "Epoch 14 Eval:   0%|          | 0/32 [00:00<?, ?it/s]"
      ]
     },
     "metadata": {},
     "output_type": "display_data"
    },
    {
     "name": "stdout",
     "output_type": "stream",
     "text": [
      "Epoch 14 | Train Loss (Res): 0.0618 | Test MAE: 0.96 kcal/mol\n"
     ]
    },
    {
     "data": {
      "application/vnd.jupyter.widget-view+json": {
       "model_id": "",
       "version_major": 2,
       "version_minor": 0
      },
      "text/plain": [
       "Epoch 15 Training:   0%|          | 0/125 [00:00<?, ?it/s]"
      ]
     },
     "metadata": {},
     "output_type": "display_data"
    },
    {
     "data": {
      "application/vnd.jupyter.widget-view+json": {
       "model_id": "",
       "version_major": 2,
       "version_minor": 0
      },
      "text/plain": [
       "Epoch 15 Eval:   0%|          | 0/32 [00:00<?, ?it/s]"
      ]
     },
     "metadata": {},
     "output_type": "display_data"
    },
    {
     "name": "stdout",
     "output_type": "stream",
     "text": [
      "Epoch 15 | Train Loss (Res): 0.0495 | Test MAE: 0.59 kcal/mol\n",
      "  🔥 New best MAE: 0.59 kcal/mol — model saved.\n"
     ]
    },
    {
     "data": {
      "application/vnd.jupyter.widget-view+json": {
       "model_id": "",
       "version_major": 2,
       "version_minor": 0
      },
      "text/plain": [
       "Epoch 16 Training:   0%|          | 0/125 [00:00<?, ?it/s]"
      ]
     },
     "metadata": {},
     "output_type": "display_data"
    },
    {
     "data": {
      "application/vnd.jupyter.widget-view+json": {
       "model_id": "",
       "version_major": 2,
       "version_minor": 0
      },
      "text/plain": [
       "Epoch 16 Eval:   0%|          | 0/32 [00:00<?, ?it/s]"
      ]
     },
     "metadata": {},
     "output_type": "display_data"
    },
    {
     "name": "stdout",
     "output_type": "stream",
     "text": [
      "Epoch 16 | Train Loss (Res): 0.0483 | Test MAE: 0.84 kcal/mol\n"
     ]
    },
    {
     "data": {
      "application/vnd.jupyter.widget-view+json": {
       "model_id": "",
       "version_major": 2,
       "version_minor": 0
      },
      "text/plain": [
       "Epoch 17 Training:   0%|          | 0/125 [00:00<?, ?it/s]"
      ]
     },
     "metadata": {},
     "output_type": "display_data"
    },
    {
     "data": {
      "application/vnd.jupyter.widget-view+json": {
       "model_id": "",
       "version_major": 2,
       "version_minor": 0
      },
      "text/plain": [
       "Epoch 17 Eval:   0%|          | 0/32 [00:00<?, ?it/s]"
      ]
     },
     "metadata": {},
     "output_type": "display_data"
    },
    {
     "name": "stdout",
     "output_type": "stream",
     "text": [
      "Epoch 17 | Train Loss (Res): 0.0454 | Test MAE: 0.70 kcal/mol\n"
     ]
    },
    {
     "data": {
      "application/vnd.jupyter.widget-view+json": {
       "model_id": "",
       "version_major": 2,
       "version_minor": 0
      },
      "text/plain": [
       "Epoch 18 Training:   0%|          | 0/125 [00:00<?, ?it/s]"
      ]
     },
     "metadata": {},
     "output_type": "display_data"
    },
    {
     "data": {
      "application/vnd.jupyter.widget-view+json": {
       "model_id": "",
       "version_major": 2,
       "version_minor": 0
      },
      "text/plain": [
       "Epoch 18 Eval:   0%|          | 0/32 [00:00<?, ?it/s]"
      ]
     },
     "metadata": {},
     "output_type": "display_data"
    },
    {
     "name": "stdout",
     "output_type": "stream",
     "text": [
      "Epoch 18 | Train Loss (Res): 0.0444 | Test MAE: 0.59 kcal/mol\n",
      "  🔥 New best MAE: 0.59 kcal/mol — model saved.\n"
     ]
    },
    {
     "data": {
      "application/vnd.jupyter.widget-view+json": {
       "model_id": "",
       "version_major": 2,
       "version_minor": 0
      },
      "text/plain": [
       "Epoch 19 Training:   0%|          | 0/125 [00:00<?, ?it/s]"
      ]
     },
     "metadata": {},
     "output_type": "display_data"
    },
    {
     "data": {
      "application/vnd.jupyter.widget-view+json": {
       "model_id": "",
       "version_major": 2,
       "version_minor": 0
      },
      "text/plain": [
       "Epoch 19 Eval:   0%|          | 0/32 [00:00<?, ?it/s]"
      ]
     },
     "metadata": {},
     "output_type": "display_data"
    },
    {
     "name": "stdout",
     "output_type": "stream",
     "text": [
      "Epoch 19 | Train Loss (Res): 0.0414 | Test MAE: 0.52 kcal/mol\n",
      "  🔥 New best MAE: 0.52 kcal/mol — model saved.\n"
     ]
    },
    {
     "data": {
      "application/vnd.jupyter.widget-view+json": {
       "model_id": "",
       "version_major": 2,
       "version_minor": 0
      },
      "text/plain": [
       "Epoch 20 Training:   0%|          | 0/125 [00:00<?, ?it/s]"
      ]
     },
     "metadata": {},
     "output_type": "display_data"
    },
    {
     "data": {
      "application/vnd.jupyter.widget-view+json": {
       "model_id": "",
       "version_major": 2,
       "version_minor": 0
      },
      "text/plain": [
       "Epoch 20 Eval:   0%|          | 0/32 [00:00<?, ?it/s]"
      ]
     },
     "metadata": {},
     "output_type": "display_data"
    },
    {
     "name": "stdout",
     "output_type": "stream",
     "text": [
      "Epoch 20 | Train Loss (Res): 0.0441 | Test MAE: 0.54 kcal/mol\n"
     ]
    }
   ],
   "source": [
    "# ───────── Model, Optimizer, and Loss ─────────\n",
    "model = SchNet(\n",
    "    hidden_channels=CONFIG[\"hidden_channels\"],\n",
    "    num_filters=CONFIG[\"num_filters\"],\n",
    "    num_interactions=CONFIG[\"num_interactions\"],\n",
    "    num_gaussians=CONFIG[\"num_gaussians\"],\n",
    "    cutoff=CONFIG[\"cutoff\"],\n",
    "    max_num_neighbors=32\n",
    ").to(device)\n",
    "\n",
    "optimizer = torch.optim.Adam(model.parameters(), lr=CONFIG[\"lr\"], weight_decay=1e-6)\n",
    "scheduler = torch.optim.lr_scheduler.ReduceLROnPlateau(optimizer, mode='min', factor=0.5, patience=3)\n",
    "\n",
    "# Use SmoothL1Loss (Huber Loss) for robust training\n",
    "training_loss_fn = torch.nn.SmoothL1Loss(beta=0.1)\n",
    "# Use standard MSE and MAE for final evaluation metrics\n",
    "mse_loss = torch.nn.MSELoss()\n",
    "mae_loss = torch.nn.L1Loss()\n",
    "\n",
    "\n",
    "# ───────── Training Loop with Early Stopping ─────────\n",
    "history = {\"train_loss\": [], \"test_mse\": [], \"test_mae\": []}\n",
    "best_test_mae = float(\"inf\")\n",
    "epochs_no_improve = 0\n",
    "early_stop_patience = 7 # Increased patience\n",
    "\n",
    "# Use the new residual energy stats from the data prep cell\n",
    "E_mean = E_mean_res\n",
    "E_std = E_std_res\n",
    "\n",
    "for epoch in range(1, CONFIG[\"epochs\"] + 1):\n",
    "    # — Train on normalized residuals —\n",
    "    model.train()\n",
    "    train_accum_loss = 0.0\n",
    "    for batch in tqdm(train_loader, desc=f\"Epoch {epoch} Training\", leave=False):\n",
    "        batch = batch.to(device)\n",
    "        optimizer.zero_grad()\n",
    "        # Predict the normalized residual energy\n",
    "        pred_norm_res = model(batch.z, batch.pos, batch.batch).view(-1)\n",
    "        # Loss is calculated on the normalized residual\n",
    "        loss = training_loss_fn(pred_norm_res, batch.y)\n",
    "        loss.backward()\n",
    "        torch.nn.utils.clip_grad_norm_(model.parameters(), max_norm=1.0)\n",
    "        optimizer.step()\n",
    "        train_accum_loss += loss.item() * batch.num_graphs\n",
    "    train_loss = train_accum_loss / len(train_loader.dataset)\n",
    "\n",
    "    # — Evaluate on total energies —\n",
    "    model.eval()\n",
    "    mse_accum, mae_accum = 0.0, 0.0\n",
    "    with torch.no_grad():\n",
    "        for batch in tqdm(test_loader, desc=f\"Epoch {epoch} Eval\", leave=False):\n",
    "            batch = batch.to(device)\n",
    "            # <<< CHANGE: This entire block is updated for residual prediction >>>\n",
    "\n",
    "            # 1. Predict the NORMALIZED RESIDUAL\n",
    "            pred_norm_res = model(batch.z, batch.pos, batch.batch).view(-1)\n",
    "\n",
    "            # 2. Un-normalize the residual prediction\n",
    "            pred_res = (pred_norm_res * E_std) + E_mean\n",
    "\n",
    "            # 3. Add the baseline back to get the final TOTAL energy prediction\n",
    "            pred_total = pred_res + batch.baseline.view(-1)\n",
    "\n",
    "            # 4. Reconstruct the true TOTAL energy for comparison\n",
    "            # The ground truth `batch.y` is also a normalized residual\n",
    "            true_res = (batch.y * E_std) + E_mean\n",
    "            true_total = true_res + batch.baseline.view(-1)\n",
    "\n",
    "            # 5. Calculate metrics on the reconstructed TOTAL energies\n",
    "            mse_accum += mse_loss(pred_total, true_total).item() * batch.num_graphs\n",
    "            mae_accum += mae_loss(pred_total, true_total).item() * batch.num_graphs\n",
    "\n",
    "    test_mse = mse_accum / len(test_loader.dataset)\n",
    "    test_mae = mae_accum / len(test_loader.dataset)\n",
    "\n",
    "    history[\"train_loss\"].append(train_loss)\n",
    "    history[\"test_mse\"].append(test_mse)\n",
    "    history[\"test_mae\"].append(test_mae)\n",
    "\n",
    "    HARTREE_TO_KCAL_MOL = 627.5\n",
    "    test_mae_kcal = test_mae * HARTREE_TO_KCAL_MOL\n",
    "\n",
    "    print(f\"Epoch {epoch:02d} | Train Loss (Res): {train_loss:.4f} | Test MAE: {test_mae_kcal:.2f} kcal/mol\")\n",
    "\n",
    "    # Scheduler and early-stopping logic\n",
    "    scheduler.step(test_mae)\n",
    "    if test_mae < best_test_mae:\n",
    "        best_test_mae = test_mae\n",
    "        epochs_no_improve = 0\n",
    "        torch.save(model.state_dict(), \"best_model.pt\")\n",
    "        print(f\"  🔥 New best MAE: {test_mae_kcal:.2f} kcal/mol — model saved.\")\n",
    "    else:\n",
    "        epochs_no_improve += 1\n",
    "        if epochs_no_improve >= early_stop_patience:\n",
    "            print(f\"⚠️  No improvement for {early_stop_patience} epochs — stopping early.\")\n",
    "            break"
   ]
  },
  {
   "cell_type": "markdown",
   "id": "6c6118aa-820b-4af3-bae6-60f00b2f67aa",
   "metadata": {},
   "source": [
    "<div style=\"\n",
    "    border-left: 4px solid #4CAF50; \n",
    "    background: #e8f5e9;\n",
    "    padding: 16px;\n",
    "    margin: 20px 0;\n",
    "    border-radius: 6px;\n",
    "\">\n",
    "  <h3 style=\"margin:0; color:#4CAF50;\">📈 5. Training Visualization</h3>\n",
    "  <p style=\"margin:12px 0 0 0;\">\n",
    "    This plot visualizes the model's training progress over 20 epochs.<br><br>\n",
    "    <b>Left Plot (Loss vs. MSE):</b> This shows the training loss on the normalized residual energies (blue) and the validation Mean Squared Error on the raw total energies (orange). Both metrics decrease steadily, indicating that the model is learning effectively without significant overfitting.<br><br>\n",
    "    <b>Right Plot (Validation MAE):</b> This shows the validation Mean Absolute Error (in Hartrees). The consistent downward trend confirms that the model's predictive accuracy improves with each epoch.\n",
    "  </p>\n",
    "</div>"
   ]
  },
  {
   "cell_type": "code",
   "execution_count": 48,
   "id": "4673eea7-e020-4536-b1fd-45f26591f505",
   "metadata": {},
   "outputs": [
    {
     "data": {
      "image/png": "[encoded data removed]",
      "text/plain": [
       "<Figure size 1120x400 with 2 Axes>"
      ]
     },
     "metadata": {},
     "output_type": "display_data"
    }
   ],
   "source": [
    "import matplotlib.pyplot as plt\n",
    "import seaborn as sns\n",
    "\n",
    "# Set a nice style for the plot\n",
    "sns.set(style=\"whitegrid\")\n",
    "\n",
    "# Get the number of epochs the model actually ran for\n",
    "epochs = list(range(1, len(history[\"train_loss\"]) + 1))\n",
    "\n",
    "# Create a 1x2 figure to hold the plots\n",
    "fig, (ax1, ax2) = plt.subplots(1, 2, figsize=(14, 5))\n",
    "\n",
    "# --- Plot 1: Training Loss vs. Validation MSE (on the left) ---\n",
    "sns.lineplot(x=epochs, y=history[\"train_loss\"], marker=\"o\", label=\"Train Loss (Normalized)\", ax=ax1)\n",
    "sns.lineplot(x=epochs, y=history[\"test_mse\"], marker=\"s\", label=\"Validation MSE (Raw Energy)\", ax=ax1)\n",
    "ax1.set_title(\"Training Loss vs. Validation MSE\")\n",
    "ax1.set_xlabel(\"Epoch\")\n",
    "ax1.set_ylabel(\"Loss / MSE\")\n",
    "ax1.legend()\n",
    "\n",
    "# --- Plot 2: Validation MAE (on the right) ---\n",
    "sns.lineplot(x=epochs, y=history[\"test_mae\"], marker=\"d\", label=\"Validation MAE (Raw Energy)\", color=\"tab:green\", ax=ax2)\n",
    "ax2.set_title(\"Validation MAE Over Epochs\")\n",
    "ax2.set_xlabel(\"Epoch\")\n",
    "ax2.set_ylabel(\"Mean Absolute Error (Hartrees)\")\n",
    "ax2.legend()\n",
    "\n",
    "plt.tight_layout()\n",
    "plt.show()"
   ]
  },
  {
   "cell_type": "markdown",
   "id": "14a97d64-dd3b-4c16-9dd1-5bd58e2b0ff2",
   "metadata": {},
   "source": [
    "<div style=\"\n",
    "    border-left: 4px solid #4CAF50; \n",
    "    background: #e8f5e9;\n",
    "    padding: 16px;\n",
    "    margin: 20px 0;\n",
    "    border-radius: 6px;\n",
    "\">\n",
    "  <h3 style=\"margin:0; color:#4CAF50;\">📊 6. Model Evaluation: Parity and Error Analysis</h3>\n",
    "  <p style=\"margin:12px 0 0 0;\">\n",
    "    These plots evaluate the performance of the best-saved model on the unseen test set.<br><br>\n",
    "    <b>Parity Plot (Top):</b> This scatter plot compares the model's predicted residual energies against the true residual energies. The points cluster tightly around the y=x line (red dashes), indicating a very strong correlation and high accuracy. The dense clustering signifies that the model's predictions are consistently close to the true values across the energy range.<br><br>\n",
    "    <b>Error Histogram (Bottom):</b> This plot shows the distribution of prediction errors in kcal/mol. The errors are centered around zero with a very narrow spread. The Mean Absolute Error (MAE) is <b>0.51 kcal/mol</b>, which is well within the shaded green region representing \"chemical accuracy\" (±1 kcal/mol). This result is excellent and demonstrates that the model is a highly accurate predictor of molecular energy.\n",
    "  </p>\n",
    "</div>"
   ]
  },
  {
   "cell_type": "code",
   "execution_count": 50,
   "id": "bfb74048-edca-4dda-8f59-742c90e4ac2f",
   "metadata": {},
   "outputs": [
    {
     "data": {
      "application/vnd.jupyter.widget-view+json": {
       "model_id": "a8259016c6b945b28ffb507ddd6d9c1d",
       "version_major": 2,
       "version_minor": 0
      },
      "text/plain": [
       "Getting Test Predictions:   0%|          | 0/32 [00:00<?, ?it/s]"
      ]
     },
     "metadata": {},
     "output_type": "display_data"
    },
    {
     "data": {
      "image/png": "[encoded data removed]",
      "text/plain": [
       "<Figure size 640x640 with 1 Axes>"
      ]
     },
     "metadata": {},
     "output_type": "display_data"
    }
   ],
   "source": [
    "import pandas as pd\n",
    "import matplotlib.pyplot as plt\n",
    "import seaborn as sns\n",
    "import numpy as np\n",
    "import torch\n",
    "from tqdm.notebook import tqdm\n",
    "\n",
    "# Ensure E_mean and E_std are Python floats (remove .item() errors)\n",
    "E_mean = float(E_mean)\n",
    "E_std = float(E_std)\n",
    "\n",
    "# Re-create and load the model if needed\n",
    "model = SchNet(\n",
    "    hidden_channels=CONFIG[\"hidden_channels\"],\n",
    "    num_filters=CONFIG[\"num_filters\"],\n",
    "    num_interactions=CONFIG[\"num_interactions\"],\n",
    "    num_gaussians=CONFIG[\"num_gaussians\"],\n",
    "    cutoff=CONFIG[\"cutoff\"],\n",
    "    max_num_neighbors=32\n",
    ").to(device)\n",
    "model.load_state_dict(torch.load(\"best_model.pt\"))\n",
    "model.eval()\n",
    "\n",
    "# Collect predictions and truths\n",
    "true_energies = []\n",
    "pred_energies = []\n",
    "\n",
    "with torch.no_grad():\n",
    "    for batch in tqdm(test_loader, desc=\"Getting Test Predictions\"):\n",
    "        batch = batch.to(device)\n",
    "        \n",
    "        # Predict normalized residual\n",
    "        E_pred_norm = model(batch.z, batch.pos, batch.batch).view(-1)\n",
    "        \n",
    "        # Un-normalize to total energy in Hartrees\n",
    "        E_pred = (E_pred_norm * E_std) + E_mean\n",
    "        E_true = (batch.y * E_std) + E_mean\n",
    "        \n",
    "        # Convert tensors to lists\n",
    "        pred_energies.extend(E_pred.cpu().tolist())\n",
    "        true_energies.extend(E_true.cpu().tolist())\n",
    "\n",
    "# Create a DataFrame for convenience\n",
    "df = pd.DataFrame({\n",
    "    'True Energy (H)': true_energies,\n",
    "    'Predicted Energy (H)': pred_energies\n",
    "})\n",
    "\n",
    "# Plot Parity\n",
    "plt.figure(figsize=(8, 8))\n",
    "sns.scatterplot(data=df, x='True Energy (H)', y='Predicted Energy (H)', alpha=0.6)\n",
    "lims = [\n",
    "    np.min([df['True Energy (H)'].min(), df['Predicted Energy (H)'].min()]),\n",
    "    np.max([df['True Energy (H)'].max(), df['Predicted Energy (H)'].max()])\n",
    "]\n",
    "plt.plot(lims, lims, 'r--', label='y = x')\n",
    "plt.title(\"Parity Plot: Predicted vs. True Energy\")\n",
    "plt.xlabel(\"True Energy (Hartrees)\")\n",
    "plt.ylabel(\"Predicted Energy (Hartrees)\")\n",
    "plt.legend()\n",
    "plt.grid(True)\n",
    "plt.axis('equal')\n",
    "plt.show()\n"
   ]
  },
  {
   "cell_type": "code",
   "execution_count": 51,
   "id": "2fda3f60-ec45-448a-82a5-9e364d6b7978",
   "metadata": {},
   "outputs": [
    {
     "data": {
      "image/png": "[encoded data removed]",
      "text/plain": [
       "<Figure size 800x480 with 1 Axes>"
      ]
     },
     "metadata": {},
     "output_type": "display_data"
    },
    {
     "name": "stdout",
     "output_type": "stream",
     "text": [
      "The model's Mean Absolute Error on the test set is: 0.518 kcal/mol.\n",
      "🎉 Congratulations! Your model has achieved chemical accuracy!\n"
     ]
    }
   ],
   "source": [
    "# --- Calculate Errors in different units ---\n",
    "errors_hartrees = np.array(pred_energies) - np.array(true_energies)\n",
    "\n",
    "# 1 Hartree = 627.5 kcal/mol\n",
    "HARTREE_TO_KCAL_MOL = 627.5\n",
    "errors_kcal_mol = errors_hartrees * HARTREE_TO_KCAL_MOL\n",
    "\n",
    "# Calculate MAE in kcal/mol\n",
    "mae_kcal_mol = np.mean(np.abs(errors_kcal_mol))\n",
    "\n",
    "# --- Create the Error Histogram ---\n",
    "plt.figure(figsize=(10, 6))\n",
    "sns.histplot(errors_kcal_mol, kde=True, bins=50)\n",
    "\n",
    "# Add a vertical line for the MAE and for chemical accuracy\n",
    "plt.axvline(x=0, color='black', linestyle='--')\n",
    "plt.axvline(x=mae_kcal_mol, color='red', linestyle='--', label=f\"MAE: {mae_kcal_mol:.2f} kcal/mol\")\n",
    "plt.axvline(x=-mae_kcal_mol, color='red', linestyle='--')\n",
    "\n",
    "# Shade the chemical accuracy region\n",
    "plt.axvspan(-1, 1, color='green', alpha=0.2, label=\"Chemical Accuracy (±1 kcal/mol)\")\n",
    "\n",
    "plt.title(\"Distribution of Prediction Errors\")\n",
    "plt.xlabel(\"Error (Predicted - True) [kcal/mol]\")\n",
    "plt.ylabel(\"Count\")\n",
    "plt.legend()\n",
    "plt.show()\n",
    "\n",
    "print(f\"The model's Mean Absolute Error on the test set is: {mae_kcal_mol:.3f} kcal/mol.\")\n",
    "if mae_kcal_mol <= 1.0:\n",
    "    print(\"🎉 Congratulations! Your model has achieved chemical accuracy!\")\n",
    "else:\n",
    "    print(\"Your model is showing good promise but has not yet reached the chemical accuracy threshold.\")"
   ]
  },
  {
   "cell_type": "markdown",
   "id": "6579681a-1b90-4292-b70a-17f5b378f7a4",
   "metadata": {},
   "source": [
    "<div style=\"\n",
    "    border-left: 4px solid #4CAF50; \n",
    "    background: #e8f5e9;\n",
    "    padding: 16px;\n",
    "    margin: 20px 0;\n",
    "    border-radius: 6px;\n",
    "\">\n",
    "  <h3 style=\"margin:0; color:#4CAF50;\">🗺️ 7. Model Interpretation: Atom Saliency</h3>\n",
    "  <p style=\"margin:12px 0 0 0;\">\n",
    "    This visualization investigates the model's internal reasoning using a technique called saliency mapping. By calculating the gradient of the predicted energy with respect to the input atom types, we can determine how much each atom contributes to the final energy prediction. This is a form of <b>feature attribution</b>.<br><br>\n",
    "    For the selected ammonia molecule (NH₃), the nitrogen atom (blue) has the highest saliency score, while the hydrogen atoms have lower scores, colored in shades of red. The color scale (blue -> white -> red) represents low to high importance. This result is chemically intuitive: the central, heavier nitrogen atom and its local environment are the most critical features for determining the molecule's total energy, more so than the individual hydrogen atoms. This confirms that the model is learning chemically relevant patterns.\n",
    "  </p>\n",
    "</div>"
   ]
  },
  {
   "cell_type": "code",
   "execution_count": 55,
   "id": "97e0a54a-f4bd-4d9b-8d36-0c924580185d",
   "metadata": {},
   "outputs": [
    {
     "name": "stdout",
     "output_type": "stream",
     "text": [
      "--- Investigating Molecule Index: 15 ---\n",
      "Raw Saliency Scores:\n",
      " [16.85421    6.476324   9.535529   3.3474004]\n"
     ]
    },
    {
     "data": {
      "image/png": "[encoded data removed]",
      "text/plain": [
       "<Figure size 640x560 with 2 Axes>"
      ]
     },
     "metadata": {},
     "output_type": "display_data"
    }
   ],
   "source": [
    "import torch\n",
    "import numpy as np\n",
    "import matplotlib.pyplot as plt\n",
    "from mpl_toolkits.mplot3d import Axes3D\n",
    "import matplotlib.colors as mcolors\n",
    "from matplotlib.colorbar import ColorbarBase\n",
    "\n",
    "# (Helper functions and model loading code are now defined here)\n",
    "\n",
    "def get_atom_saliency(model, mol_data):\n",
    "    \"\"\"Calculates saliency scores for each atom based on gradients.\"\"\"\n",
    "    # Ensure the model is in evaluation mode\n",
    "    model.eval()\n",
    "    \n",
    "    # Clone the position tensor and enable gradient tracking\n",
    "    pos = mol_data.pos.clone().requires_grad_(True)\n",
    "    \n",
    "    # We need the other data on the correct device as well\n",
    "    z = mol_data.z.to(device)\n",
    "    batch = mol_data.batch.to(device) if mol_data.batch is not None else torch.zeros(mol_data.z.size(0), dtype=torch.long, device=device)\n",
    "\n",
    "    # Forward pass to get the energy prediction\n",
    "    energy_pred = model(z, pos, batch)\n",
    "    \n",
    "    # Backward pass to get gradients of energy w.r.t. atom positions\n",
    "    energy_pred.sum().backward()\n",
    "    \n",
    "    # Saliency is the magnitude (norm) of the gradient for each atom's position\n",
    "    saliency_scores = pos.grad.norm(dim=1).cpu().numpy()\n",
    "    return saliency_scores\n",
    "\n",
    "def view_molecule_with_static_image(mol_data, saliency_scores, title=\"\"):\n",
    "    \"\"\"Generates a static 3D plot of the molecule using Matplotlib.\"\"\"\n",
    "    \n",
    "    coords = mol_data.pos.cpu().numpy()\n",
    "    atomic_numbers = mol_data.z.cpu().numpy()\n",
    "    \n",
    "    # Normalize scores for colormap (from blue for low to red for high)\n",
    "    norm = mcolors.Normalize(vmin=saliency_scores.min(), vmax=saliency_scores.max())\n",
    "    cmap = plt.cm.coolwarm_r\n",
    "    \n",
    "    fig = plt.figure(figsize=(8, 7))\n",
    "    ax = fig.add_subplot(111, projection='3d')\n",
    "    \n",
    "    # Plot atoms as a scatter plot, sized by atomic number and colored by saliency\n",
    "    atom_plot = ax.scatter(\n",
    "        coords[:, 0], coords[:, 1], coords[:, 2], \n",
    "        c=saliency_scores, \n",
    "        cmap=cmap, \n",
    "        s=atomic_numbers * 100, # Scale size by atomic number\n",
    "        edgecolors='black',\n",
    "        alpha=0.8\n",
    "    )\n",
    "    \n",
    "    # Add simple bonds for atoms that are close to each other\n",
    "    num_atoms = len(atomic_numbers)\n",
    "    for i in range(num_atoms):\n",
    "        for j in range(i + 1, num_atoms):\n",
    "            dist = np.linalg.norm(coords[i] - coords[j])\n",
    "            # A simple distance cutoff for drawing a bond\n",
    "            if dist < 1.6:\n",
    "                ax.plot([coords[i, 0], coords[j, 0]],\n",
    "                        [coords[i, 1], coords[j, 1]],\n",
    "                        [coords[i, 2], coords[j, 2]], 'gray', alpha=0.6)\n",
    "\n",
    "    # --- Create a color bar ---\n",
    "    cax = fig.add_axes([0.85, 0.2, 0.03, 0.6]) # [left, bottom, width, height]\n",
    "    cbar = ColorbarBase(cax, cmap=cmap, norm=norm)\n",
    "    cbar.set_label('Atom Saliency (Importance)')\n",
    "    \n",
    "    ax.set_title(title, fontsize=16)\n",
    "    ax.set_xlabel('X (Å)')\n",
    "    ax.set_ylabel('Y (Å)')\n",
    "    ax.set_zlabel('Z (Å)')\n",
    "    ax.grid(False) # Hide grid for a cleaner look\n",
    "    ax.set_xticks([])\n",
    "    ax.set_yticks([])\n",
    "    ax.set_zticks([])\n",
    "    plt.show()\n",
    "\n",
    "# --- Main Script ---\n",
    "\n",
    "# Step 0: Load the best model\n",
    "model.load_state_dict(torch.load(\"best_model.pt\"))\n",
    "model.to(device)\n",
    "\n",
    "# Step 1: Select a molecule to investigate\n",
    "molecule_index_to_explain = 15\n",
    "mol_to_investigate = test_dataset[molecule_index_to_explain].to(device)\n",
    "\n",
    "# Step 2: Calculate the Saliency Scores\n",
    "atom_saliency_scores = get_atom_saliency(model, mol_to_investigate)\n",
    "\n",
    "# Step 3: Print scores for inspection\n",
    "print(f\"--- Investigating Molecule Index: {molecule_index_to_explain} ---\")\n",
    "print(\"Raw Saliency Scores:\\n\", atom_saliency_scores)\n",
    "\n",
    "# Step 4: Visualize as a static image\n",
    "if atom_saliency_scores.std() > 1e-9:\n",
    "    view_molecule_with_static_image(\n",
    "        mol_to_investigate,\n",
    "        atom_saliency_scores,\n",
    "        title=f\"Atom Saliency for Molecule {molecule_index_to_explain}\"\n",
    "    )\n",
    "else:\n",
    "    print(\"All saliency scores are identical.\")"
   ]
  },
  {
   "cell_type": "markdown",
   "id": "e7c5bf8e-fa07-4f25-9ede-6ab044d74803",
   "metadata": {},
   "source": [
    "\n",
    "## 🎯 What is “Atom Saliency for Molecule 15”?\n",
    "\n",
    "This image is answering the question:\n",
    "\n",
    "> **“Which atoms in this molecule are most responsible for the model’s energy prediction?”**\n",
    "\n",
    "It’s like asking: **if you nudged each atom slightly, which ones would cause the biggest change in the predicted energy?**\n",
    "\n",
    "---\n",
    "\n",
    "## 🔍 What’s actually being measured?\n",
    "\n",
    "Each atom gets a **saliency score**, which is:\n",
    "\n",
    "> The **magnitude of the gradient** of the predicted energy with respect to that atom’s 3D position.\n",
    "\n",
    "In math terms, for atom `i`, it’s:\n",
    "\n",
    "$$\n",
    "\\text{saliency}_i = \\left\\| \\frac{\\partial E}{\\partial \\vec{r}_i} \\right\\|\n",
    "$$\n",
    "\n",
    "This gradient tells us:\n",
    "\n",
    "* **How much the model’s output (energy)** would change **if we slightly move atom `i`**.\n",
    "\n",
    "So high saliency → that atom is **important** to the model's decision.\n",
    "\n",
    "---\n",
    "\n",
    "## 📊 What the plot shows:\n",
    "\n",
    "* Each **sphere is an atom**, placed in 3D based on its real coordinates.\n",
    "* The **color** shows importance:\n",
    "\n",
    "  * **Blue** = high saliency (very influential atom)\n",
    "  * **Red** = low saliency (not influential)\n",
    "* The **size** may correspond to atom type or be decorative.\n",
    "* **Lines** show approximate chemical bonds (based on distance).\n",
    "\n",
    "---\n",
    "\n",
    "## 🤔 How to read the actual result:\n",
    "\n",
    "In your plot:\n",
    "\n",
    "```plaintext\n",
    "Raw Saliency Scores:\n",
    "[16.85, 6.47, 9.53, 3.35]\n",
    "```\n",
    "\n",
    "This means:\n",
    "\n",
    "* Atom 1 (blue) is **most influential** — it dominates how the model predicts the molecule’s energy.\n",
    "* Atom 4 (light red) has **little effect** — moving it slightly wouldn’t change the prediction much.\n",
    "\n",
    "It’s like a control panel where some knobs (atoms) control the outcome a lot, and others barely matter.\n",
    "\n",
    "---\n",
    "\n",
    "## ✅ Why it matters:\n",
    "\n",
    "* Helps you **understand what the model is “paying attention to.”**\n",
    "* Can help identify **key functional groups** or **reactive sites** in chemistry.\n",
    "* Makes the model less of a black box.\n",
    "\n",
    "---\n",
    "\n",
    "## 🧠 Analogy:\n",
    "\n",
    "Imagine the molecule is a **mobile hanging from strings**, and you’re trying to balance it.\n",
    "Some atoms are like **anchor points** — if you move them, the whole mobile tilts.\n",
    "Others are like dangling ends — you can wiggle them and nothing big happens.\n",
    "\n",
    "Saliency shows which atoms are **anchoring the energy prediction**.\n",
    "\n"
   ]
  },
  {
   "cell_type": "markdown",
   "id": "40da3983-83da-405e-a73c-d85bab2fe631",
   "metadata": {},
   "source": [
    "<div style=\"\n",
    "    border-left: 4px solid #4CAF50; \n",
    "    background: #e8f5e9;\n",
    "    padding: 16px;\n",
    "    margin: 20px 0;\n",
    "    border-radius: 6px;\n",
    "\">\n",
    "  <h3 style=\"margin:0; color:#4CAF50;\">✅ Conclusion & Summary</h3>\n",
    "  <p style=\"margin:12px 0 0 0;\">\n",
    "    In this notebook, we successfully trained a <b>SchNet</b> Graph Neural Network to predict the quantum chemical energies of molecular conformers from the ANI-1 dataset. By implementing an efficient on-the-fly data loader and training the model on <b>residual energies</b>, we achieved excellent performance on the unseen test set.\n",
    "    <br><br>\n",
    "    The final model obtained a Mean Absolute Error of <b>0.51 kcal/mol</b>, which is well within the critical threshold of 1 kcal/mol required for <b>chemical accuracy</b>. Furthermore, model interpretation using saliency maps confirmed that the GNN learned chemically relevant principles by identifying the most influential atoms for its predictions. This work demonstrates the power of GNNs for accurately and efficiently modeling complex chemical systems.\n",
    "  </p>\n",
    "</div>"
   ]
  }
 ],
 "metadata": {
  "kernelspec": {
   "display_name": "Python (pyspark-stable)",
   "language": "python",
   "name": "pyspark-stable"
  },
  "language_info": {
   "codemirror_mode": {
    "name": "ipython",
    "version": 3
   },
   "file_extension": ".py",
   "mimetype": "text/x-python",
   "name": "python",
   "nbconvert_exporter": "python",
   "pygments_lexer": "ipython3",
   "version": "3.11.8"
  }
 },
 "nbformat": 4,
 "nbformat_minor": 5
}
